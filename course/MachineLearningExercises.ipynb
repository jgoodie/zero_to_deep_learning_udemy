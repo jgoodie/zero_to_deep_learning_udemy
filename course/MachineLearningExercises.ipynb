{
 "cells": [
  {
   "cell_type": "code",
   "execution_count": 241,
   "metadata": {},
   "outputs": [],
   "source": [
    "import numpy as np\n",
    "import pandas as pd\n",
    "from keras.models import Sequential\n",
    "from keras.layers import Dense\n",
    "from keras.optimizers import Adam, SGD\n",
    "from keras.wrappers.scikit_learn import KerasClassifier\n",
    "from sklearn.model_selection import train_test_split\n",
    "from sklearn.linear_model import LinearRegression, LogisticRegression\n",
    "from sklearn.preprocessing import MinMaxScaler, StandardScaler\n",
    "from sklearn.metrics import mean_squared_error, mean_absolute_error, r2_score, explained_variance_score\n",
    "from sklearn.model_selection import train_test_split, cross_val_score, KFold\n",
    "from sklearn.metrics import confusion_matrix, classification_report\n",
    "import seaborn as sns\n",
    "import matplotlib.pyplot as plt\n",
    "%matplotlib inline"
   ]
  },
  {
   "cell_type": "markdown",
   "metadata": {},
   "source": [
    "## Exercise 1"
   ]
  },
  {
   "cell_type": "markdown",
   "metadata": {},
   "source": [
    "You've just been hired at a real estate investment firm and they would like you to build a model for pricing houses. \n",
    "\n",
    "You are given a dataset that contains data for house prices and a few features like number of bedrooms, size in square feet and age of the house. \n",
    "\n",
    "Let's see if you can build a model that is able to predict the price. In this exercise we extend what we have learned about linear regression to a dataset with more than one feature. \n",
    "\n",
    "Here are the steps to complete it:\n",
    "\n",
    "Load the dataset ../data/housing-data.csv\n",
    "\n",
    "plot the histograms for each feature\n",
    "\n",
    "create 2 variables called X and y: \n",
    "\n",
    "    X shall be a matrix with 3 columns (sqft,bdrms,age) and y shall be a vector with 1 column (price)\n",
    "    \n",
    "create a linear regression model in Keras with the appropriate number of inputs and output\n",
    "\n",
    "split the data into train and test with a 20% test size\n",
    "\n",
    "train the model on the training set and check its accuracy on training and test set\n",
    "\n",
    "how's your model doing? Is the loss growing smaller?\n",
    "\n",
    "try to improve your model with these experiments:\n",
    "\n",
    "normalize the input features with one of the rescaling techniques mentioned above\n",
    "\n",
    "use a different value for the learning rate of your model\n",
    "\n",
    "use a different optimizer\n",
    "\n",
    "once you're satisfied with training, check the R2score on the test set\n"
   ]
  },
  {
   "cell_type": "code",
   "execution_count": 207,
   "metadata": {},
   "outputs": [
    {
     "data": {
      "text/html": [
       "<div>\n",
       "<table border=\"1\" class=\"dataframe\">\n",
       "  <thead>\n",
       "    <tr style=\"text-align: right;\">\n",
       "      <th></th>\n",
       "      <th>sqft</th>\n",
       "      <th>bdrms</th>\n",
       "      <th>age</th>\n",
       "      <th>price</th>\n",
       "    </tr>\n",
       "  </thead>\n",
       "  <tbody>\n",
       "    <tr>\n",
       "      <th>0</th>\n",
       "      <td>2104</td>\n",
       "      <td>3</td>\n",
       "      <td>70</td>\n",
       "      <td>399900</td>\n",
       "    </tr>\n",
       "    <tr>\n",
       "      <th>1</th>\n",
       "      <td>1600</td>\n",
       "      <td>3</td>\n",
       "      <td>28</td>\n",
       "      <td>329900</td>\n",
       "    </tr>\n",
       "    <tr>\n",
       "      <th>2</th>\n",
       "      <td>2400</td>\n",
       "      <td>3</td>\n",
       "      <td>44</td>\n",
       "      <td>369000</td>\n",
       "    </tr>\n",
       "    <tr>\n",
       "      <th>3</th>\n",
       "      <td>1416</td>\n",
       "      <td>2</td>\n",
       "      <td>49</td>\n",
       "      <td>232000</td>\n",
       "    </tr>\n",
       "    <tr>\n",
       "      <th>4</th>\n",
       "      <td>3000</td>\n",
       "      <td>4</td>\n",
       "      <td>75</td>\n",
       "      <td>539900</td>\n",
       "    </tr>\n",
       "  </tbody>\n",
       "</table>\n",
       "</div>"
      ],
      "text/plain": [
       "   sqft  bdrms  age   price\n",
       "0  2104      3   70  399900\n",
       "1  1600      3   28  329900\n",
       "2  2400      3   44  369000\n",
       "3  1416      2   49  232000\n",
       "4  3000      4   75  539900"
      ]
     },
     "execution_count": 207,
     "metadata": {},
     "output_type": "execute_result"
    }
   ],
   "source": [
    "df = pd.read_csv(\"../data/housing-data.csv\")\n",
    "df.head()"
   ]
  },
  {
   "cell_type": "code",
   "execution_count": 208,
   "metadata": {},
   "outputs": [
    {
     "data": {
      "text/html": [
       "<div>\n",
       "<table border=\"1\" class=\"dataframe\">\n",
       "  <thead>\n",
       "    <tr style=\"text-align: right;\">\n",
       "      <th></th>\n",
       "      <th>sqft</th>\n",
       "      <th>bdrms</th>\n",
       "      <th>age</th>\n",
       "      <th>price</th>\n",
       "    </tr>\n",
       "  </thead>\n",
       "  <tbody>\n",
       "    <tr>\n",
       "      <th>count</th>\n",
       "      <td>47.000000</td>\n",
       "      <td>47.000000</td>\n",
       "      <td>47.000000</td>\n",
       "      <td>47.000000</td>\n",
       "    </tr>\n",
       "    <tr>\n",
       "      <th>mean</th>\n",
       "      <td>2000.680851</td>\n",
       "      <td>3.170213</td>\n",
       "      <td>42.744681</td>\n",
       "      <td>340412.659574</td>\n",
       "    </tr>\n",
       "    <tr>\n",
       "      <th>std</th>\n",
       "      <td>794.702354</td>\n",
       "      <td>0.760982</td>\n",
       "      <td>22.873440</td>\n",
       "      <td>125039.899586</td>\n",
       "    </tr>\n",
       "    <tr>\n",
       "      <th>min</th>\n",
       "      <td>852.000000</td>\n",
       "      <td>1.000000</td>\n",
       "      <td>5.000000</td>\n",
       "      <td>169900.000000</td>\n",
       "    </tr>\n",
       "    <tr>\n",
       "      <th>25%</th>\n",
       "      <td>1432.000000</td>\n",
       "      <td>3.000000</td>\n",
       "      <td>24.500000</td>\n",
       "      <td>249900.000000</td>\n",
       "    </tr>\n",
       "    <tr>\n",
       "      <th>50%</th>\n",
       "      <td>1888.000000</td>\n",
       "      <td>3.000000</td>\n",
       "      <td>44.000000</td>\n",
       "      <td>299900.000000</td>\n",
       "    </tr>\n",
       "    <tr>\n",
       "      <th>75%</th>\n",
       "      <td>2269.000000</td>\n",
       "      <td>4.000000</td>\n",
       "      <td>61.500000</td>\n",
       "      <td>384450.000000</td>\n",
       "    </tr>\n",
       "    <tr>\n",
       "      <th>max</th>\n",
       "      <td>4478.000000</td>\n",
       "      <td>5.000000</td>\n",
       "      <td>79.000000</td>\n",
       "      <td>699900.000000</td>\n",
       "    </tr>\n",
       "  </tbody>\n",
       "</table>\n",
       "</div>"
      ],
      "text/plain": [
       "              sqft      bdrms        age          price\n",
       "count    47.000000  47.000000  47.000000      47.000000\n",
       "mean   2000.680851   3.170213  42.744681  340412.659574\n",
       "std     794.702354   0.760982  22.873440  125039.899586\n",
       "min     852.000000   1.000000   5.000000  169900.000000\n",
       "25%    1432.000000   3.000000  24.500000  249900.000000\n",
       "50%    1888.000000   3.000000  44.000000  299900.000000\n",
       "75%    2269.000000   4.000000  61.500000  384450.000000\n",
       "max    4478.000000   5.000000  79.000000  699900.000000"
      ]
     },
     "execution_count": 208,
     "metadata": {},
     "output_type": "execute_result"
    }
   ],
   "source": [
    "df.describe()"
   ]
  },
  {
   "cell_type": "code",
   "execution_count": 209,
   "metadata": {},
   "outputs": [
    {
     "data": {
      "image/png": "[encoded data removed]",
      "text/plain": [
       "<matplotlib.figure.Figure at 0x11df74780>"
      ]
     },
     "metadata": {
      "needs_background": "light"
     },
     "output_type": "display_data"
    }
   ],
   "source": [
    "#df['sqft'].plot(kind='hist', bins=8,figsize=(8,6))\n",
    "f, ax = plt.subplots(1,4, sharex=False, sharey=False,figsize=(12,5))\n",
    "ax[0].hist(df['sqft'], bins=8)\n",
    "ax[0].set_xlabel(\"sqft\")\n",
    "ax[0].set_ylabel(\"frequency\")\n",
    "ax[1].hist(df['bdrms'], bins=5)\n",
    "ax[1].set_xlabel(\"bdrms\")\n",
    "ax[1].set_ylabel(\"frequency\")\n",
    "ax[2].hist(df['age'], bins=10)\n",
    "ax[2].set_xlabel(\"age\")\n",
    "ax[2].set_ylabel(\"frequency\")\n",
    "ax[3].hist(df['price'], bins=8)\n",
    "for tick in ax[3].get_xticklabels():\n",
    "        tick.set_rotation(90)\n",
    "ax[3].set_xlabel(\"price\")\n",
    "ax[3].set_ylabel(\"frequency\")\n",
    "plt.tight_layout()"
   ]
  },
  {
   "cell_type": "code",
   "execution_count": 210,
   "metadata": {
    "scrolled": false
   },
   "outputs": [
    {
     "data": {
      "text/plain": [
       "<seaborn.axisgrid.PairGrid at 0x11e373b70>"
      ]
     },
     "execution_count": 210,
     "metadata": {},
     "output_type": "execute_result"
    },
    {
     "data": {
      "image/png": "[encoded data removed]",
      "text/plain": [
       "<matplotlib.figure.Figure at 0x11e373c50>"
      ]
     },
     "metadata": {
      "needs_background": "light"
     },
     "output_type": "display_data"
    }
   ],
   "source": [
    "sns.pairplot(df)"
   ]
  },
  {
   "cell_type": "code",
   "execution_count": 211,
   "metadata": {},
   "outputs": [
    {
     "data": {
      "text/plain": [
       "<matplotlib.axes._subplots.AxesSubplot at 0x11edc75f8>"
      ]
     },
     "execution_count": 211,
     "metadata": {},
     "output_type": "execute_result"
    },
    {
     "data": {
      "image/png": "[encoded data removed]",
      "text/plain": [
       "<matplotlib.figure.Figure at 0x11edc7b38>"
      ]
     },
     "metadata": {
      "needs_background": "light"
     },
     "output_type": "display_data"
    }
   ],
   "source": [
    "plt.figure(figsize=(8,5))\n",
    "sns.distplot(df['price'])"
   ]
  },
  {
   "cell_type": "code",
   "execution_count": 212,
   "metadata": {},
   "outputs": [],
   "source": [
    "X = df[['sqft', 'bdrms','age']].values\n",
    "y = df['price'].values"
   ]
  },
  {
   "cell_type": "code",
   "execution_count": 213,
   "metadata": {},
   "outputs": [],
   "source": [
    "X_train, X_test, y_train, y_test = train_test_split(X, y, test_size=0.2, random_state=42)"
   ]
  },
  {
   "cell_type": "code",
   "execution_count": 214,
   "metadata": {},
   "outputs": [],
   "source": [
    "lm = LinearRegression()"
   ]
  },
  {
   "cell_type": "code",
   "execution_count": 215,
   "metadata": {},
   "outputs": [
    {
     "data": {
      "text/plain": [
       "LinearRegression(copy_X=True, fit_intercept=True, n_jobs=1, normalize=False)"
      ]
     },
     "execution_count": 215,
     "metadata": {},
     "output_type": "execute_result"
    }
   ],
   "source": [
    "lm.fit(X_train, y_train)"
   ]
  },
  {
   "cell_type": "code",
   "execution_count": 216,
   "metadata": {},
   "outputs": [
    {
     "name": "stdout",
     "output_type": "stream",
     "text": [
      "85504.1062192\n",
      "[   143.34116695 -13537.65106075    -21.00899506]\n"
     ]
    }
   ],
   "source": [
    "print(lm.intercept_)\n",
    "print(lm.coef_)"
   ]
  },
  {
   "cell_type": "code",
   "execution_count": 217,
   "metadata": {},
   "outputs": [],
   "source": [
    "y_pred = lm.predict(X_test)"
   ]
  },
  {
   "cell_type": "code",
   "execution_count": 218,
   "metadata": {},
   "outputs": [
    {
     "name": "stdout",
     "output_type": "stream",
     "text": [
      "MAE: 72373.3849524\n",
      "MSE: 8604733613.06\n",
      "RMSE: 92761.7033752\n",
      "R squared (explained variance): 0.69274992064\n",
      "R2 score: 0.515205510878\n"
     ]
    }
   ],
   "source": [
    "print(\"MAE: \" + str(mean_absolute_error(y_test, y_pred)))\n",
    "print(\"MSE: \" + str(mean_squared_error(y_test, y_pred)))\n",
    "print(\"RMSE: \" + str(np.sqrt(mean_squared_error(y_test, y_pred))))\n",
    "print(\"R squared (explained variance): \" + str(explained_variance_score(y_test, y_pred)))\n",
    "print(\"R2 score: \" + str(r2_score(y_test, y_pred)))"
   ]
  },
  {
   "cell_type": "code",
   "execution_count": null,
   "metadata": {},
   "outputs": [],
   "source": []
  },
  {
   "cell_type": "code",
   "execution_count": null,
   "metadata": {},
   "outputs": [],
   "source": []
  },
  {
   "cell_type": "code",
   "execution_count": 224,
   "metadata": {},
   "outputs": [],
   "source": [
    "def build_logistic_regression_model(input_shape, output_shape):\n",
    "    model = Sequential()\n",
    "    model.add(Dense(output_shape, input_shape=(input_shape,), activation='sigmoid'))\n",
    "    model.compile(Adam(lr=0.5), 'mean_squared_error')\n",
    "    return(model)"
   ]
  },
  {
   "cell_type": "code",
   "execution_count": 225,
   "metadata": {},
   "outputs": [
    {
     "name": "stdout",
     "output_type": "stream",
     "text": [
      "Epoch 1/100\n",
      "47/47 [==============================] - 0s - loss: 131182418050.7234     \n",
      "Epoch 2/100\n",
      "47/47 [==============================] - 0s - loss: 131182419445.1064     \n",
      "Epoch 3/100\n",
      "47/47 [==============================] - 0s - loss: 131182419619.4043     \n",
      "Epoch 4/100\n",
      "47/47 [==============================] - 0s - loss: 131182413344.6808     \n",
      "Epoch 5/100\n",
      "47/47 [==============================] - 0s - loss: 131182412996.0851     \n",
      "Epoch 6/100\n",
      "47/47 [==============================] - 0s - loss: 131182412124.5957     \n",
      "Epoch 7/100\n",
      "47/47 [==============================] - 0s - loss: 131182412124.5957     \n",
      "Epoch 8/100\n",
      "47/47 [==============================] - 0s - loss: 131182412124.5957     \n",
      "Epoch 9/100\n",
      "47/47 [==============================] - 0s - loss: 131182420665.1915     \n",
      "Epoch 10/100\n",
      "47/47 [==============================] - 0s - loss: 131182415261.9574     \n",
      "Epoch 11/100\n",
      "47/47 [==============================] - 0s - loss: 131182411950.2979     \n",
      "Epoch 12/100\n",
      "47/47 [==============================] - 0s - loss: 131182417702.1277     \n",
      "Epoch 13/100\n",
      "47/47 [==============================] - 0s - loss: 131182416307.7447     \n",
      "Epoch 14/100\n",
      "47/47 [==============================] - 0s - loss: 131182412298.8936     \n",
      "Epoch 15/100\n",
      "47/47 [==============================] - 0s - loss: 131182413170.3830     \n",
      "Epoch 16/100\n",
      "47/47 [==============================] - 0s - loss: 131182416307.7447     \n",
      "Epoch 17/100\n",
      "47/47 [==============================] - 0s - loss: 131182417353.5319     \n",
      "Epoch 18/100\n",
      "47/47 [==============================] - 0s - loss: 131182412473.1915     \n",
      "Epoch 19/100\n",
      "47/47 [==============================] - 0s - loss: 131182412821.7872     \n",
      "Epoch 20/100\n",
      "47/47 [==============================] - 0s - loss: 131182418922.2128     \n",
      "Epoch 21/100\n",
      "47/47 [==============================] - 0s - loss: 131182415784.8511     \n",
      "Epoch 22/100\n",
      "47/47 [==============================] - 0s - loss: 131182416307.7447     \n",
      "Epoch 23/100\n",
      "47/47 [==============================] - 0s - loss: 131182412821.7872     \n",
      "Epoch 24/100\n",
      "47/47 [==============================] - 0s - loss: 131182411950.2979     \n",
      "Epoch 25/100\n",
      "47/47 [==============================] - 0s - loss: 131182410381.6170     \n",
      "Epoch 26/100\n",
      "47/47 [==============================] - 0s - loss: 131182406372.7660     \n",
      "Epoch 27/100\n",
      "47/47 [==============================] - 0s - loss: 131182415784.8511     \n",
      "Epoch 28/100\n",
      "47/47 [==============================] - 0s - loss: 131182418225.0213     \n",
      "Epoch 29/100\n",
      "47/47 [==============================] - 0s - loss: 131182415959.1489     \n",
      "Epoch 30/100\n",
      "47/47 [==============================] - 0s - loss: 131182418399.3192     \n",
      "Epoch 31/100\n",
      "47/47 [==============================] - 0s - loss: 131182411776.0000     \n",
      "Epoch 32/100\n",
      "47/47 [==============================] - 0s - loss: 131182415261.9574     \n",
      "Epoch 33/100\n",
      "47/47 [==============================] - 0s - loss: 131182420142.2979     \n",
      "Epoch 34/100\n",
      "47/47 [==============================] - 0s - loss: 131182416656.3404     \n",
      "Epoch 35/100\n",
      "47/47 [==============================] - 0s - loss: 131182411078.8085     \n",
      "Epoch 36/100\n",
      "47/47 [==============================] - 0s - loss: 131182414913.3617     \n",
      "Epoch 37/100\n",
      "47/47 [==============================] - 0s - loss: 131182414564.7660     \n",
      "Epoch 38/100\n",
      "47/47 [==============================] - 0s - loss: 131182416656.3404     \n",
      "Epoch 39/100\n",
      "47/47 [==============================] - 0s - loss: 131182412821.7872     \n",
      "Epoch 40/100\n",
      "47/47 [==============================] - 0s - loss: 131182413170.3830     \n",
      "Epoch 41/100\n",
      "47/47 [==============================] - 0s - loss: 131182418225.0213     \n",
      "Epoch 42/100\n",
      "47/47 [==============================] - 0s - loss: 131182414390.4681     \n",
      "Epoch 43/100\n",
      "47/47 [==============================] - 0s - loss: 131182407418.5532     \n",
      "Epoch 44/100\n",
      "47/47 [==============================] - 0s - loss: 131182413170.3830     \n",
      "Epoch 45/100\n",
      "47/47 [==============================] - 0s - loss: 131182414041.8723     \n",
      "Epoch 46/100\n",
      "47/47 [==============================] - 0s - loss: 131182420490.8936     \n",
      "Epoch 47/100\n",
      "47/47 [==============================] - 0s - loss: 131182411078.8085     \n",
      "Epoch 48/100\n",
      "47/47 [==============================] - 0s - loss: 131182414564.7660     \n",
      "Epoch 49/100\n",
      "47/47 [==============================] - 0s - loss: 131182415784.8511     \n",
      "Epoch 50/100\n",
      "47/47 [==============================] - 0s - loss: 131182417353.5319     \n",
      "Epoch 51/100\n",
      "47/47 [==============================] - 0s - loss: 131182420839.4894     \n",
      "Epoch 52/100\n",
      "47/47 [==============================] - 0s - loss: 131182423105.3617     \n",
      "Epoch 53/100\n",
      "47/47 [==============================] - 0s - loss: 131182415959.1489     \n",
      "Epoch 54/100\n",
      "47/47 [==============================] - 0s - loss: 131182415261.9574     \n",
      "Epoch 55/100\n",
      "47/47 [==============================] - 0s - loss: 131182415784.8511     \n",
      "Epoch 56/100\n",
      "47/47 [==============================] - 0s - loss: 131182418225.0213     \n",
      "Epoch 57/100\n",
      "47/47 [==============================] - 0s - loss: 131182416307.7447     \n",
      "Epoch 58/100\n",
      "47/47 [==============================] - 0s - loss: 131182416482.0426     \n",
      "Epoch 59/100\n",
      "47/47 [==============================] - 0s - loss: 131182422408.1702     \n",
      "Epoch 60/100\n",
      "47/47 [==============================] - 0s - loss: 131182412298.8936     \n",
      "Epoch 61/100\n",
      "47/47 [==============================] - 0s - loss: 131182416830.6383     \n",
      "Epoch 62/100\n",
      "47/47 [==============================] - 0s - loss: 131182412124.5957     \n",
      "Epoch 63/100\n",
      "47/47 [==============================] - 0s - loss: 131182417353.5319     \n",
      "Epoch 64/100\n",
      "47/47 [==============================] - 0s - loss: 131182410730.2128     \n",
      "Epoch 65/100\n",
      "47/47 [==============================] - 0s - loss: 131182415436.2553     \n",
      "Epoch 66/100\n",
      "47/47 [==============================] - 0s - loss: 131182409510.1277     \n",
      "Epoch 67/100\n",
      "47/47 [==============================] - 0s - loss: 131182409161.5319     \n",
      "Epoch 68/100\n",
      "47/47 [==============================] - 0s - loss: 131182414041.8723     \n",
      "Epoch 69/100\n",
      "47/47 [==============================] - 0s - loss: 131182418922.2128     \n",
      "Epoch 70/100\n",
      "47/47 [==============================] - 0s - loss: 131182413867.5745     \n",
      "Epoch 71/100\n",
      "47/47 [==============================] - 0s - loss: 131182407941.4468     \n",
      "Epoch 72/100\n",
      "47/47 [==============================] - 0s - loss: 131182420316.5957     \n",
      "Epoch 73/100\n",
      "47/47 [==============================] - 0s - loss: 131182419445.1064     \n",
      "Epoch 74/100\n",
      "47/47 [==============================] - 0s - loss: 131182405152.6808     \n",
      "Epoch 75/100\n",
      "47/47 [==============================] - 0s - loss: 131182417702.1277     \n",
      "Epoch 76/100\n",
      "47/47 [==============================] - 0s - loss: 131182417004.9362     \n",
      "Epoch 77/100\n",
      "47/47 [==============================] - 0s - loss: 131182408290.0426     \n",
      "Epoch 78/100\n",
      "47/47 [==============================] - 0s - loss: 131182420839.4894     \n",
      "Epoch 79/100\n",
      "47/47 [==============================] - 0s - loss: 131182413867.5745     \n",
      "Epoch 80/100\n",
      "47/47 [==============================] - 0s - loss: 131182413867.5745     \n",
      "Epoch 81/100\n",
      "47/47 [==============================] - 0s - loss: 131182415436.2553     \n",
      "Epoch 82/100\n",
      "47/47 [==============================] - 0s - loss: 131182413693.2766     \n",
      "Epoch 83/100\n",
      "47/47 [==============================] - 0s - loss: 131182418747.9149     \n",
      "Epoch 84/100\n",
      "47/47 [==============================] - 0s - loss: 131182413867.5745     \n",
      "Epoch 85/100\n",
      "47/47 [==============================] - 0s - loss: 131182420839.4894     \n",
      "Epoch 86/100\n",
      "47/47 [==============================] - 0s - loss: 131182414216.1702     \n",
      "Epoch 87/100\n",
      "47/47 [==============================] - 0s - loss: 131182414216.1702     \n",
      "Epoch 88/100\n",
      "47/47 [==============================] - 0s - loss: 131182413693.2766     \n",
      "Epoch 89/100\n",
      "47/47 [==============================] - 0s - loss: 131182417004.9362     \n",
      "Epoch 90/100\n",
      "47/47 [==============================] - 0s - loss: 131182411253.1064     \n",
      "Epoch 91/100\n",
      "47/47 [==============================] - 0s - loss: 131182422059.5745     \n",
      "Epoch 92/100\n",
      "47/47 [==============================] - 0s - loss: 131182412124.5957     \n",
      "Epoch 93/100\n",
      "47/47 [==============================] - 0s - loss: 131182420142.2979     \n",
      "Epoch 94/100\n",
      "47/47 [==============================] - 0s - loss: 131182415261.9574     \n",
      "Epoch 95/100\n",
      "47/47 [==============================] - 0s - loss: 131182420490.8936     \n",
      "Epoch 96/100\n",
      "47/47 [==============================] - 0s - loss: 131182419270.8085     \n",
      "Epoch 97/100\n",
      "47/47 [==============================] - 0s - loss: 131182406721.3617     \n",
      "Epoch 98/100\n",
      "47/47 [==============================] - 0s - loss: 131182411776.0000     \n",
      "Epoch 99/100\n",
      "47/47 [==============================] - 0s - loss: 131182417353.5319     \n",
      "Epoch 100/100\n",
      "47/47 [==============================] - 0s - loss: 131182424325.4468     \n"
     ]
    },
    {
     "data": {
      "text/plain": [
       "<keras.callbacks.History at 0x11e4eec18>"
      ]
     },
     "execution_count": 225,
     "metadata": {},
     "output_type": "execute_result"
    }
   ],
   "source": [
    "lrmodel = build_logistic_regression_model(3,1)\n",
    "lrmodel.fit(X, y, epochs=100, verbose=1)"
   ]
  },
  {
   "cell_type": "code",
   "execution_count": 226,
   "metadata": {},
   "outputs": [
    {
     "name": "stdout",
     "output_type": "stream",
     "text": [
      "The R2 score on the Train set is:\t-7.886\n",
      "The R2 score on the Test set is:\t-9.205\n"
     ]
    }
   ],
   "source": [
    "y_train_pred = lrmodel.predict(X_train)\n",
    "y_test_pred = lrmodel.predict(X_test)\n",
    "print(\"The R2 score on the Train set is:\\t{:0.3f}\".format(r2_score(y_train, y_train_pred)))\n",
    "print(\"The R2 score on the Test set is:\\t{:0.3f}\".format(r2_score(y_test, y_test_pred)))"
   ]
  },
  {
   "cell_type": "code",
   "execution_count": 227,
   "metadata": {
    "scrolled": true
   },
   "outputs": [
    {
     "name": "stdout",
     "output_type": "stream",
     "text": [
      "The MSE on the train set is 117681966958.13513\n",
      "The MSE on the test set is 181134074581.3\n"
     ]
    }
   ],
   "source": [
    "print(\"The MSE on the train set is {}\".format(mse(y_train, y_train_pred)))\n",
    "print(\"The MSE on the test set is {}\".format(mse(y_test, y_test_pred)))"
   ]
  },
  {
   "cell_type": "code",
   "execution_count": 228,
   "metadata": {},
   "outputs": [
    {
     "data": {
      "text/html": [
       "<div>\n",
       "<table border=\"1\" class=\"dataframe\">\n",
       "  <thead>\n",
       "    <tr style=\"text-align: right;\">\n",
       "      <th></th>\n",
       "      <th>sqft</th>\n",
       "      <th>bdrms</th>\n",
       "      <th>age</th>\n",
       "      <th>price</th>\n",
       "    </tr>\n",
       "  </thead>\n",
       "  <tbody>\n",
       "    <tr>\n",
       "      <th>0</th>\n",
       "      <td>2104</td>\n",
       "      <td>3</td>\n",
       "      <td>70</td>\n",
       "      <td>399900</td>\n",
       "    </tr>\n",
       "    <tr>\n",
       "      <th>1</th>\n",
       "      <td>1600</td>\n",
       "      <td>3</td>\n",
       "      <td>28</td>\n",
       "      <td>329900</td>\n",
       "    </tr>\n",
       "    <tr>\n",
       "      <th>2</th>\n",
       "      <td>2400</td>\n",
       "      <td>3</td>\n",
       "      <td>44</td>\n",
       "      <td>369000</td>\n",
       "    </tr>\n",
       "    <tr>\n",
       "      <th>3</th>\n",
       "      <td>1416</td>\n",
       "      <td>2</td>\n",
       "      <td>49</td>\n",
       "      <td>232000</td>\n",
       "    </tr>\n",
       "    <tr>\n",
       "      <th>4</th>\n",
       "      <td>3000</td>\n",
       "      <td>4</td>\n",
       "      <td>75</td>\n",
       "      <td>539900</td>\n",
       "    </tr>\n",
       "  </tbody>\n",
       "</table>\n",
       "</div>"
      ],
      "text/plain": [
       "   sqft  bdrms  age   price\n",
       "0  2104      3   70  399900\n",
       "1  1600      3   28  329900\n",
       "2  2400      3   44  369000\n",
       "3  1416      2   49  232000\n",
       "4  3000      4   75  539900"
      ]
     },
     "execution_count": 228,
     "metadata": {},
     "output_type": "execute_result"
    }
   ],
   "source": [
    "df.head()"
   ]
  },
  {
   "cell_type": "code",
   "execution_count": 229,
   "metadata": {},
   "outputs": [
    {
     "name": "stderr",
     "output_type": "stream",
     "text": [
      "/anaconda3/envs/ztdl/lib/python3.5/site-packages/sklearn/utils/validation.py:429: DataConversionWarning: Data with input dtype int64 was converted to float64 by StandardScaler.\n",
      "  warnings.warn(msg, _DataConversionWarning)\n",
      "/anaconda3/envs/ztdl/lib/python3.5/site-packages/sklearn/preprocessing/data.py:586: DeprecationWarning: Passing 1d arrays as data is deprecated in 0.17 and will raise ValueError in 0.19. Reshape your data either using X.reshape(-1, 1) if your data has a single feature or X.reshape(1, -1) if it contains a single sample.\n",
      "  warnings.warn(DEPRECATION_MSG_1D, DeprecationWarning)\n",
      "/anaconda3/envs/ztdl/lib/python3.5/site-packages/sklearn/preprocessing/data.py:649: DeprecationWarning: Passing 1d arrays as data is deprecated in 0.17 and will raise ValueError in 0.19. Reshape your data either using X.reshape(-1, 1) if your data has a single feature or X.reshape(1, -1) if it contains a single sample.\n",
      "  warnings.warn(DEPRECATION_MSG_1D, DeprecationWarning)\n",
      "/anaconda3/envs/ztdl/lib/python3.5/site-packages/sklearn/preprocessing/data.py:586: DeprecationWarning: Passing 1d arrays as data is deprecated in 0.17 and will raise ValueError in 0.19. Reshape your data either using X.reshape(-1, 1) if your data has a single feature or X.reshape(1, -1) if it contains a single sample.\n",
      "  warnings.warn(DEPRECATION_MSG_1D, DeprecationWarning)\n",
      "/anaconda3/envs/ztdl/lib/python3.5/site-packages/sklearn/preprocessing/data.py:649: DeprecationWarning: Passing 1d arrays as data is deprecated in 0.17 and will raise ValueError in 0.19. Reshape your data either using X.reshape(-1, 1) if your data has a single feature or X.reshape(1, -1) if it contains a single sample.\n",
      "  warnings.warn(DEPRECATION_MSG_1D, DeprecationWarning)\n",
      "/anaconda3/envs/ztdl/lib/python3.5/site-packages/sklearn/preprocessing/data.py:586: DeprecationWarning: Passing 1d arrays as data is deprecated in 0.17 and will raise ValueError in 0.19. Reshape your data either using X.reshape(-1, 1) if your data has a single feature or X.reshape(1, -1) if it contains a single sample.\n",
      "  warnings.warn(DEPRECATION_MSG_1D, DeprecationWarning)\n",
      "/anaconda3/envs/ztdl/lib/python3.5/site-packages/sklearn/preprocessing/data.py:649: DeprecationWarning: Passing 1d arrays as data is deprecated in 0.17 and will raise ValueError in 0.19. Reshape your data either using X.reshape(-1, 1) if your data has a single feature or X.reshape(1, -1) if it contains a single sample.\n",
      "  warnings.warn(DEPRECATION_MSG_1D, DeprecationWarning)\n"
     ]
    }
   ],
   "source": [
    "scaler = StandardScaler()\n",
    "df['sqft_ss'] = scaler.fit_transform(df['sqft'])\n",
    "df['age_ss'] = scaler.fit_transform(df['age'])\n",
    "df['price_ss'] =  scaler.fit_transform(df['price'])"
   ]
  },
  {
   "cell_type": "code",
   "execution_count": 230,
   "metadata": {
    "scrolled": true
   },
   "outputs": [
    {
     "data": {
      "text/html": [
       "<div>\n",
       "<table border=\"1\" class=\"dataframe\">\n",
       "  <thead>\n",
       "    <tr style=\"text-align: right;\">\n",
       "      <th></th>\n",
       "      <th>sqft</th>\n",
       "      <th>bdrms</th>\n",
       "      <th>age</th>\n",
       "      <th>price</th>\n",
       "      <th>sqft_ss</th>\n",
       "      <th>age_ss</th>\n",
       "      <th>price_ss</th>\n",
       "    </tr>\n",
       "  </thead>\n",
       "  <tbody>\n",
       "    <tr>\n",
       "      <th>0</th>\n",
       "      <td>2104</td>\n",
       "      <td>3</td>\n",
       "      <td>70</td>\n",
       "      <td>399900</td>\n",
       "      <td>0.131415</td>\n",
       "      <td>1.204453</td>\n",
       "      <td>0.480890</td>\n",
       "    </tr>\n",
       "    <tr>\n",
       "      <th>1</th>\n",
       "      <td>1600</td>\n",
       "      <td>3</td>\n",
       "      <td>28</td>\n",
       "      <td>329900</td>\n",
       "      <td>-0.509641</td>\n",
       "      <td>-0.651589</td>\n",
       "      <td>-0.084983</td>\n",
       "    </tr>\n",
       "    <tr>\n",
       "      <th>2</th>\n",
       "      <td>2400</td>\n",
       "      <td>3</td>\n",
       "      <td>44</td>\n",
       "      <td>369000</td>\n",
       "      <td>0.507909</td>\n",
       "      <td>0.055474</td>\n",
       "      <td>0.231097</td>\n",
       "    </tr>\n",
       "    <tr>\n",
       "      <th>3</th>\n",
       "      <td>1416</td>\n",
       "      <td>2</td>\n",
       "      <td>49</td>\n",
       "      <td>232000</td>\n",
       "      <td>-0.743677</td>\n",
       "      <td>0.276432</td>\n",
       "      <td>-0.876398</td>\n",
       "    </tr>\n",
       "    <tr>\n",
       "      <th>4</th>\n",
       "      <td>3000</td>\n",
       "      <td>4</td>\n",
       "      <td>75</td>\n",
       "      <td>539900</td>\n",
       "      <td>1.271071</td>\n",
       "      <td>1.425410</td>\n",
       "      <td>1.612637</td>\n",
       "    </tr>\n",
       "  </tbody>\n",
       "</table>\n",
       "</div>"
      ],
      "text/plain": [
       "   sqft  bdrms  age   price   sqft_ss    age_ss  price_ss\n",
       "0  2104      3   70  399900  0.131415  1.204453  0.480890\n",
       "1  1600      3   28  329900 -0.509641 -0.651589 -0.084983\n",
       "2  2400      3   44  369000  0.507909  0.055474  0.231097\n",
       "3  1416      2   49  232000 -0.743677  0.276432 -0.876398\n",
       "4  3000      4   75  539900  1.271071  1.425410  1.612637"
      ]
     },
     "execution_count": 230,
     "metadata": {},
     "output_type": "execute_result"
    }
   ],
   "source": [
    "df.head()"
   ]
  },
  {
   "cell_type": "code",
   "execution_count": 231,
   "metadata": {},
   "outputs": [],
   "source": [
    "def build_logistic_regression_model(input_shape, output_shape):\n",
    "    model = Sequential()\n",
    "    model.add(Dense(output_shape, input_shape=(input_shape,), activation='sigmoid'))\n",
    "    model.compile(Adam(lr=0.1), 'mean_squared_error')\n",
    "    return(model)"
   ]
  },
  {
   "cell_type": "code",
   "execution_count": 232,
   "metadata": {},
   "outputs": [],
   "source": [
    "X = df[['sqft_ss', 'bdrms','age_ss']].values\n",
    "y = df['price_ss'].values\n",
    "X_train, X_test, y_train, y_test = train_test_split(X, y, test_size=0.2, random_state=42)"
   ]
  },
  {
   "cell_type": "code",
   "execution_count": 233,
   "metadata": {},
   "outputs": [
    {
     "name": "stdout",
     "output_type": "stream",
     "text": [
      "Epoch 1/100\n",
      "47/47 [==============================] - 0s - loss: 1.8488     \n",
      "Epoch 2/100\n",
      "47/47 [==============================] - 0s - loss: 1.7172     \n",
      "Epoch 3/100\n",
      "47/47 [==============================] - 0s - loss: 1.4623     \n",
      "Epoch 4/100\n",
      "47/47 [==============================] - 0s - loss: 1.2377     \n",
      "Epoch 5/100\n",
      "47/47 [==============================] - 0s - loss: 0.9717     \n",
      "Epoch 6/100\n",
      "47/47 [==============================] - 0s - loss: 0.8294     \n",
      "Epoch 7/100\n",
      "47/47 [==============================] - 0s - loss: 0.7398     \n",
      "Epoch 8/100\n",
      "47/47 [==============================] - 0s - loss: 0.7210     \n",
      "Epoch 9/100\n",
      "47/47 [==============================] - 0s - loss: 0.7167     \n",
      "Epoch 10/100\n",
      "47/47 [==============================] - 0s - loss: 0.7145     \n",
      "Epoch 11/100\n",
      "47/47 [==============================] - 0s - loss: 0.7082     \n",
      "Epoch 12/100\n",
      "47/47 [==============================] - 0s - loss: 0.7001     \n",
      "Epoch 13/100\n",
      "47/47 [==============================] - 0s - loss: 0.6867     \n",
      "Epoch 14/100\n",
      "47/47 [==============================] - 0s - loss: 0.6737     \n",
      "Epoch 15/100\n",
      "47/47 [==============================] - 0s - loss: 0.6550     \n",
      "Epoch 16/100\n",
      "47/47 [==============================] - 0s - loss: 0.6460     \n",
      "Epoch 17/100\n",
      "47/47 [==============================] - 0s - loss: 0.6324     \n",
      "Epoch 18/100\n",
      "47/47 [==============================] - 0s - loss: 0.6230     \n",
      "Epoch 19/100\n",
      "47/47 [==============================] - 0s - loss: 0.6169     \n",
      "Epoch 20/100\n",
      "47/47 [==============================] - 0s - loss: 0.6114     \n",
      "Epoch 21/100\n",
      "47/47 [==============================] - 0s - loss: 0.6111     \n",
      "Epoch 22/100\n",
      "47/47 [==============================] - 0s - loss: 0.6103     \n",
      "Epoch 23/100\n",
      "47/47 [==============================] - 0s - loss: 0.6107     \n",
      "Epoch 24/100\n",
      "47/47 [==============================] - 0s - loss: 0.6108     \n",
      "Epoch 25/100\n",
      "47/47 [==============================] - 0s - loss: 0.6108     \n",
      "Epoch 26/100\n",
      "47/47 [==============================] - 0s - loss: 0.6102     \n",
      "Epoch 27/100\n",
      "47/47 [==============================] - 0s - loss: 0.6094     \n",
      "Epoch 28/100\n",
      "47/47 [==============================] - 0s - loss: 0.6086     \n",
      "Epoch 29/100\n",
      "47/47 [==============================] - 0s - loss: 0.6070     \n",
      "Epoch 30/100\n",
      "47/47 [==============================] - 0s - loss: 0.6058     \n",
      "Epoch 31/100\n",
      "47/47 [==============================] - 0s - loss: 0.6051     \n",
      "Epoch 32/100\n",
      "47/47 [==============================] - 0s - loss: 0.6038     \n",
      "Epoch 33/100\n",
      "47/47 [==============================] - 0s - loss: 0.6031     \n",
      "Epoch 34/100\n",
      "47/47 [==============================] - 0s - loss: 0.6027     \n",
      "Epoch 35/100\n",
      "47/47 [==============================] - 0s - loss: 0.6020     \n",
      "Epoch 36/100\n",
      "47/47 [==============================] - 0s - loss: 0.6018     \n",
      "Epoch 37/100\n",
      "47/47 [==============================] - 0s - loss: 0.6013     \n",
      "Epoch 38/100\n",
      "47/47 [==============================] - 0s - loss: 0.6008     \n",
      "Epoch 39/100\n",
      "47/47 [==============================] - 0s - loss: 0.6005     \n",
      "Epoch 40/100\n",
      "47/47 [==============================] - 0s - loss: 0.6003     \n",
      "Epoch 41/100\n",
      "47/47 [==============================] - 0s - loss: 0.6000     \n",
      "Epoch 42/100\n",
      "47/47 [==============================] - 0s - loss: 0.5998     \n",
      "Epoch 43/100\n",
      "47/47 [==============================] - 0s - loss: 0.5996     \n",
      "Epoch 44/100\n",
      "47/47 [==============================] - 0s - loss: 0.5994     \n",
      "Epoch 45/100\n",
      "47/47 [==============================] - 0s - loss: 0.5991     \n",
      "Epoch 46/100\n",
      "47/47 [==============================] - 0s - loss: 0.5990     \n",
      "Epoch 47/100\n",
      "47/47 [==============================] - 0s - loss: 0.5988     \n",
      "Epoch 48/100\n",
      "47/47 [==============================] - 0s - loss: 0.5986     \n",
      "Epoch 49/100\n",
      "47/47 [==============================] - 0s - loss: 0.5985     \n",
      "Epoch 50/100\n",
      "47/47 [==============================] - 0s - loss: 0.5984     \n",
      "Epoch 51/100\n",
      "47/47 [==============================] - 0s - loss: 0.5984     \n",
      "Epoch 52/100\n",
      "47/47 [==============================] - 0s - loss: 0.5980     \n",
      "Epoch 53/100\n",
      "47/47 [==============================] - 0s - loss: 0.5979     \n",
      "Epoch 54/100\n",
      "47/47 [==============================] - 0s - loss: 0.5978     \n",
      "Epoch 55/100\n",
      "47/47 [==============================] - 0s - loss: 0.5975     \n",
      "Epoch 56/100\n",
      "47/47 [==============================] - 0s - loss: 0.5974     \n",
      "Epoch 57/100\n",
      "47/47 [==============================] - 0s - loss: 0.5972     \n",
      "Epoch 58/100\n",
      "47/47 [==============================] - 0s - loss: 0.5970     \n",
      "Epoch 59/100\n",
      "47/47 [==============================] - 0s - loss: 0.5968     \n",
      "Epoch 60/100\n",
      "47/47 [==============================] - 0s - loss: 0.5967     \n",
      "Epoch 61/100\n",
      "47/47 [==============================] - 0s - loss: 0.5967     \n",
      "Epoch 62/100\n",
      "47/47 [==============================] - 0s - loss: 0.5966     \n",
      "Epoch 63/100\n",
      "47/47 [==============================] - 0s - loss: 0.5970     \n",
      "Epoch 64/100\n",
      "47/47 [==============================] - 0s - loss: 0.5966     \n",
      "Epoch 65/100\n",
      "47/47 [==============================] - 0s - loss: 0.5964     \n",
      "Epoch 66/100\n",
      "47/47 [==============================] - 0s - loss: 0.5963     \n",
      "Epoch 67/100\n",
      "47/47 [==============================] - 0s - loss: 0.5961     \n",
      "Epoch 68/100\n",
      "47/47 [==============================] - 0s - loss: 0.5959     \n",
      "Epoch 69/100\n",
      "47/47 [==============================] - 0s - loss: 0.5958     \n",
      "Epoch 70/100\n",
      "47/47 [==============================] - 0s - loss: 0.5961     \n",
      "Epoch 71/100\n",
      "47/47 [==============================] - 0s - loss: 0.5958     \n",
      "Epoch 72/100\n",
      "47/47 [==============================] - 0s - loss: 0.5956     \n",
      "Epoch 73/100\n",
      "47/47 [==============================] - 0s - loss: 0.5956     \n",
      "Epoch 74/100\n",
      "47/47 [==============================] - 0s - loss: 0.5954     \n",
      "Epoch 75/100\n",
      "47/47 [==============================] - 0s - loss: 0.5954     \n",
      "Epoch 76/100\n",
      "47/47 [==============================] - 0s - loss: 0.5952     \n",
      "Epoch 77/100\n",
      "47/47 [==============================] - 0s - loss: 0.5950     \n",
      "Epoch 78/100\n",
      "47/47 [==============================] - 0s - loss: 0.5952     \n",
      "Epoch 79/100\n",
      "47/47 [==============================] - 0s - loss: 0.5953     \n",
      "Epoch 80/100\n",
      "47/47 [==============================] - 0s - loss: 0.5950     \n",
      "Epoch 81/100\n",
      "47/47 [==============================] - 0s - loss: 0.5948     \n",
      "Epoch 82/100\n",
      "47/47 [==============================] - 0s - loss: 0.5947     \n",
      "Epoch 83/100\n",
      "47/47 [==============================] - 0s - loss: 0.5948     \n",
      "Epoch 84/100\n",
      "47/47 [==============================] - 0s - loss: 0.5947     \n",
      "Epoch 85/100\n",
      "47/47 [==============================] - 0s - loss: 0.5947     \n",
      "Epoch 86/100\n",
      "47/47 [==============================] - 0s - loss: 0.5944     \n",
      "Epoch 87/100\n",
      "47/47 [==============================] - 0s - loss: 0.5943     \n",
      "Epoch 88/100\n",
      "47/47 [==============================] - 0s - loss: 0.5943     \n",
      "Epoch 89/100\n",
      "47/47 [==============================] - 0s - loss: 0.5942     \n",
      "Epoch 90/100\n",
      "47/47 [==============================] - 0s - loss: 0.5941     \n",
      "Epoch 91/100\n",
      "47/47 [==============================] - 0s - loss: 0.5943     \n",
      "Epoch 92/100\n",
      "47/47 [==============================] - 0s - loss: 0.5942     \n",
      "Epoch 93/100\n",
      "47/47 [==============================] - 0s - loss: 0.5944     \n",
      "Epoch 94/100\n",
      "47/47 [==============================] - 0s - loss: 0.5942     \n",
      "Epoch 95/100\n",
      "47/47 [==============================] - 0s - loss: 0.5942     \n",
      "Epoch 96/100\n",
      "47/47 [==============================] - 0s - loss: 0.5939     \n",
      "Epoch 97/100\n",
      "47/47 [==============================] - 0s - loss: 0.5939     \n",
      "Epoch 98/100\n",
      "47/47 [==============================] - 0s - loss: 0.5939     \n",
      "Epoch 99/100\n",
      "47/47 [==============================] - 0s - loss: 0.5938     \n",
      "Epoch 100/100\n",
      "47/47 [==============================] - 0s - loss: 0.5936     \n"
     ]
    },
    {
     "data": {
      "text/plain": [
       "<keras.callbacks.History at 0x11a5f1940>"
      ]
     },
     "execution_count": 233,
     "metadata": {},
     "output_type": "execute_result"
    }
   ],
   "source": [
    "lrmodel = build_logistic_regression_model(3,1)\n",
    "lrmodel.fit(X, y, epochs=100, verbose=1)"
   ]
  },
  {
   "cell_type": "code",
   "execution_count": 234,
   "metadata": {},
   "outputs": [
    {
     "name": "stdout",
     "output_type": "stream",
     "text": [
      "The R2 score on the Train set is:\t0.297\n",
      "The R2 score on the Test set is:\t0.535\n",
      "The MSE on the train set is 0.608388121294483\n",
      "The MSE on the test set is 0.5389416923945488\n"
     ]
    }
   ],
   "source": [
    "y_train_pred = lrmodel.predict(X_train)\n",
    "y_test_pred = lrmodel.predict(X_test)\n",
    "print(\"The R2 score on the Train set is:\\t{:0.3f}\".format(r2_score(y_train, y_train_pred)))\n",
    "print(\"The R2 score on the Test set is:\\t{:0.3f}\".format(r2_score(y_test, y_test_pred)))\n",
    "print(\"The MSE on the train set is {}\".format(mse(y_train, y_train_pred)))\n",
    "print(\"The MSE on the test set is {}\".format(mse(y_test, y_test_pred)))"
   ]
  },
  {
   "cell_type": "code",
   "execution_count": 235,
   "metadata": {},
   "outputs": [
    {
     "data": {
      "text/plain": [
       "<matplotlib.text.Text at 0x11a8686d8>"
      ]
     },
     "execution_count": 235,
     "metadata": {},
     "output_type": "execute_result"
    },
    {
     "data": {
      "image/png": "[encoded data removed]",
      "text/plain": [
       "<matplotlib.figure.Figure at 0x119f3f7b8>"
      ]
     },
     "metadata": {
      "needs_background": "light"
     },
     "output_type": "display_data"
    }
   ],
   "source": [
    "plt.scatter(y_test,y_test_pred)\n",
    "plt.xlabel('Y Test')\n",
    "plt.ylabel('Predicted Y')"
   ]
  },
  {
   "cell_type": "markdown",
   "metadata": {},
   "source": [
    "## Exercise 2\n",
    "\n",
    "Your boss was extremely happy with your work on the housing price prediction model and decided to entrust you with a more challenging task. They've seen a lot of people leave the company recently and they would like to understand why that's happening. They have collected historical data on employees and they would like you to build a model that is able to predict which employee will leave next. The would like a model that is better than random guessing. They also prefer false negatives than false positives, in this first phase. Fields in the dataset include:\n",
    "\n",
    "- Employee satisfaction level\n",
    "- Last evaluation\n",
    "- Number of projects\n",
    "- Average monthly hours\n",
    "- Time spent at the company\n",
    "- Whether they have had a work accident\n",
    "- Whether they have had a promotion in the last 5 years\n",
    "- Department\n",
    "- Salary\n",
    "- Whether the employee has left\n",
    "\n",
    "Your goal is to predict the binary outcome variable `left` using the rest of the data. Since the outcome is binary, this is a classification problem. Here are some things you may want to try out:\n",
    "\n",
    "1. load the dataset at ../data/HR_comma_sep.csv, inspect it with `.head()`, `.info()` and `.describe()`.\n",
    "- Establish a benchmark: what would be your accuracy score if you predicted everyone stay?\n",
    "- Check if any feature needs rescaling. You may plot a histogram of the feature to decide which rescaling method is more appropriate.\n",
    "- convert the categorical features into binary dummy columns. You will then have to combine them with the numerical features using `pd.concat`.\n",
    "- do the usual train/test split with a 20% test size\n",
    "- play around with learning rate and optimizer\n",
    "- check the confusion matrix, precision and recall\n",
    "- check if you still get the same results if you use a 5-Fold cross validation on all the data\n",
    "- Is the model good enough for your boss?\n",
    "\n",
    "As you will see in this exercise, the a logistic regression model is not good enough to help your boss. In the next chapter we will learn how to go beyond linear models.\n",
    "\n",
    "This dataset comes from https://www.kaggle.com/ludobenistant/hr-analytics/ and is released under [CC BY-SA 4.0 License](https://creativecommons.org/licenses/by-sa/4.0/)."
   ]
  },
  {
   "cell_type": "code",
   "execution_count": 437,
   "metadata": {},
   "outputs": [],
   "source": [
    "df = pd.read_csv(\"../data/HR_comma_sep.csv\")"
   ]
  },
  {
   "cell_type": "code",
   "execution_count": 438,
   "metadata": {},
   "outputs": [
    {
     "data": {
      "text/html": [
       "<div>\n",
       "<table border=\"1\" class=\"dataframe\">\n",
       "  <thead>\n",
       "    <tr style=\"text-align: right;\">\n",
       "      <th></th>\n",
       "      <th>satisfaction_level</th>\n",
       "      <th>last_evaluation</th>\n",
       "      <th>number_project</th>\n",
       "      <th>average_montly_hours</th>\n",
       "      <th>time_spend_company</th>\n",
       "      <th>Work_accident</th>\n",
       "      <th>left</th>\n",
       "      <th>promotion_last_5years</th>\n",
       "      <th>sales</th>\n",
       "      <th>salary</th>\n",
       "    </tr>\n",
       "  </thead>\n",
       "  <tbody>\n",
       "    <tr>\n",
       "      <th>0</th>\n",
       "      <td>0.38</td>\n",
       "      <td>0.53</td>\n",
       "      <td>2</td>\n",
       "      <td>157</td>\n",
       "      <td>3</td>\n",
       "      <td>0</td>\n",
       "      <td>1</td>\n",
       "      <td>0</td>\n",
       "      <td>sales</td>\n",
       "      <td>low</td>\n",
       "    </tr>\n",
       "    <tr>\n",
       "      <th>1</th>\n",
       "      <td>0.80</td>\n",
       "      <td>0.86</td>\n",
       "      <td>5</td>\n",
       "      <td>262</td>\n",
       "      <td>6</td>\n",
       "      <td>0</td>\n",
       "      <td>1</td>\n",
       "      <td>0</td>\n",
       "      <td>sales</td>\n",
       "      <td>medium</td>\n",
       "    </tr>\n",
       "    <tr>\n",
       "      <th>2</th>\n",
       "      <td>0.11</td>\n",
       "      <td>0.88</td>\n",
       "      <td>7</td>\n",
       "      <td>272</td>\n",
       "      <td>4</td>\n",
       "      <td>0</td>\n",
       "      <td>1</td>\n",
       "      <td>0</td>\n",
       "      <td>sales</td>\n",
       "      <td>medium</td>\n",
       "    </tr>\n",
       "    <tr>\n",
       "      <th>3</th>\n",
       "      <td>0.72</td>\n",
       "      <td>0.87</td>\n",
       "      <td>5</td>\n",
       "      <td>223</td>\n",
       "      <td>5</td>\n",
       "      <td>0</td>\n",
       "      <td>1</td>\n",
       "      <td>0</td>\n",
       "      <td>sales</td>\n",
       "      <td>low</td>\n",
       "    </tr>\n",
       "    <tr>\n",
       "      <th>4</th>\n",
       "      <td>0.37</td>\n",
       "      <td>0.52</td>\n",
       "      <td>2</td>\n",
       "      <td>159</td>\n",
       "      <td>3</td>\n",
       "      <td>0</td>\n",
       "      <td>1</td>\n",
       "      <td>0</td>\n",
       "      <td>sales</td>\n",
       "      <td>low</td>\n",
       "    </tr>\n",
       "  </tbody>\n",
       "</table>\n",
       "</div>"
      ],
      "text/plain": [
       "   satisfaction_level  last_evaluation  number_project  average_montly_hours  \\\n",
       "0                0.38             0.53               2                   157   \n",
       "1                0.80             0.86               5                   262   \n",
       "2                0.11             0.88               7                   272   \n",
       "3                0.72             0.87               5                   223   \n",
       "4                0.37             0.52               2                   159   \n",
       "\n",
       "   time_spend_company  Work_accident  left  promotion_last_5years  sales  \\\n",
       "0                   3              0     1                      0  sales   \n",
       "1                   6              0     1                      0  sales   \n",
       "2                   4              0     1                      0  sales   \n",
       "3                   5              0     1                      0  sales   \n",
       "4                   3              0     1                      0  sales   \n",
       "\n",
       "   salary  \n",
       "0     low  \n",
       "1  medium  \n",
       "2  medium  \n",
       "3     low  \n",
       "4     low  "
      ]
     },
     "execution_count": 438,
     "metadata": {},
     "output_type": "execute_result"
    }
   ],
   "source": [
    "df.head()"
   ]
  },
  {
   "cell_type": "code",
   "execution_count": 439,
   "metadata": {},
   "outputs": [
    {
     "data": {
      "text/html": [
       "<div>\n",
       "<table border=\"1\" class=\"dataframe\">\n",
       "  <thead>\n",
       "    <tr style=\"text-align: right;\">\n",
       "      <th></th>\n",
       "      <th>satisfaction_level</th>\n",
       "      <th>last_evaluation</th>\n",
       "      <th>number_project</th>\n",
       "      <th>average_montly_hours</th>\n",
       "      <th>time_spend_company</th>\n",
       "      <th>Work_accident</th>\n",
       "      <th>left</th>\n",
       "      <th>promotion_last_5years</th>\n",
       "      <th>sales</th>\n",
       "      <th>salary</th>\n",
       "    </tr>\n",
       "  </thead>\n",
       "  <tbody>\n",
       "    <tr>\n",
       "      <th>14994</th>\n",
       "      <td>0.40</td>\n",
       "      <td>0.57</td>\n",
       "      <td>2</td>\n",
       "      <td>151</td>\n",
       "      <td>3</td>\n",
       "      <td>0</td>\n",
       "      <td>1</td>\n",
       "      <td>0</td>\n",
       "      <td>support</td>\n",
       "      <td>low</td>\n",
       "    </tr>\n",
       "    <tr>\n",
       "      <th>14995</th>\n",
       "      <td>0.37</td>\n",
       "      <td>0.48</td>\n",
       "      <td>2</td>\n",
       "      <td>160</td>\n",
       "      <td>3</td>\n",
       "      <td>0</td>\n",
       "      <td>1</td>\n",
       "      <td>0</td>\n",
       "      <td>support</td>\n",
       "      <td>low</td>\n",
       "    </tr>\n",
       "    <tr>\n",
       "      <th>14996</th>\n",
       "      <td>0.37</td>\n",
       "      <td>0.53</td>\n",
       "      <td>2</td>\n",
       "      <td>143</td>\n",
       "      <td>3</td>\n",
       "      <td>0</td>\n",
       "      <td>1</td>\n",
       "      <td>0</td>\n",
       "      <td>support</td>\n",
       "      <td>low</td>\n",
       "    </tr>\n",
       "    <tr>\n",
       "      <th>14997</th>\n",
       "      <td>0.11</td>\n",
       "      <td>0.96</td>\n",
       "      <td>6</td>\n",
       "      <td>280</td>\n",
       "      <td>4</td>\n",
       "      <td>0</td>\n",
       "      <td>1</td>\n",
       "      <td>0</td>\n",
       "      <td>support</td>\n",
       "      <td>low</td>\n",
       "    </tr>\n",
       "    <tr>\n",
       "      <th>14998</th>\n",
       "      <td>0.37</td>\n",
       "      <td>0.52</td>\n",
       "      <td>2</td>\n",
       "      <td>158</td>\n",
       "      <td>3</td>\n",
       "      <td>0</td>\n",
       "      <td>1</td>\n",
       "      <td>0</td>\n",
       "      <td>support</td>\n",
       "      <td>low</td>\n",
       "    </tr>\n",
       "  </tbody>\n",
       "</table>\n",
       "</div>"
      ],
      "text/plain": [
       "       satisfaction_level  last_evaluation  number_project  \\\n",
       "14994                0.40             0.57               2   \n",
       "14995                0.37             0.48               2   \n",
       "14996                0.37             0.53               2   \n",
       "14997                0.11             0.96               6   \n",
       "14998                0.37             0.52               2   \n",
       "\n",
       "       average_montly_hours  time_spend_company  Work_accident  left  \\\n",
       "14994                   151                   3              0     1   \n",
       "14995                   160                   3              0     1   \n",
       "14996                   143                   3              0     1   \n",
       "14997                   280                   4              0     1   \n",
       "14998                   158                   3              0     1   \n",
       "\n",
       "       promotion_last_5years    sales salary  \n",
       "14994                      0  support    low  \n",
       "14995                      0  support    low  \n",
       "14996                      0  support    low  \n",
       "14997                      0  support    low  \n",
       "14998                      0  support    low  "
      ]
     },
     "execution_count": 439,
     "metadata": {},
     "output_type": "execute_result"
    }
   ],
   "source": [
    "df.tail()"
   ]
  },
  {
   "cell_type": "code",
   "execution_count": 440,
   "metadata": {},
   "outputs": [
    {
     "name": "stdout",
     "output_type": "stream",
     "text": [
      "<class 'pandas.core.frame.DataFrame'>\n",
      "RangeIndex: 14999 entries, 0 to 14998\n",
      "Data columns (total 10 columns):\n",
      "satisfaction_level       14999 non-null float64\n",
      "last_evaluation          14999 non-null float64\n",
      "number_project           14999 non-null int64\n",
      "average_montly_hours     14999 non-null int64\n",
      "time_spend_company       14999 non-null int64\n",
      "Work_accident            14999 non-null int64\n",
      "left                     14999 non-null int64\n",
      "promotion_last_5years    14999 non-null int64\n",
      "sales                    14999 non-null object\n",
      "salary                   14999 non-null object\n",
      "dtypes: float64(2), int64(6), object(2)\n",
      "memory usage: 1.1+ MB\n"
     ]
    }
   ],
   "source": [
    "df.info()"
   ]
  },
  {
   "cell_type": "code",
   "execution_count": 441,
   "metadata": {},
   "outputs": [
    {
     "data": {
      "text/html": [
       "<div>\n",
       "<table border=\"1\" class=\"dataframe\">\n",
       "  <thead>\n",
       "    <tr style=\"text-align: right;\">\n",
       "      <th></th>\n",
       "      <th>satisfaction_level</th>\n",
       "      <th>last_evaluation</th>\n",
       "      <th>number_project</th>\n",
       "      <th>average_montly_hours</th>\n",
       "      <th>time_spend_company</th>\n",
       "      <th>Work_accident</th>\n",
       "      <th>left</th>\n",
       "      <th>promotion_last_5years</th>\n",
       "    </tr>\n",
       "  </thead>\n",
       "  <tbody>\n",
       "    <tr>\n",
       "      <th>count</th>\n",
       "      <td>14999.000000</td>\n",
       "      <td>14999.000000</td>\n",
       "      <td>14999.000000</td>\n",
       "      <td>14999.000000</td>\n",
       "      <td>14999.000000</td>\n",
       "      <td>14999.000000</td>\n",
       "      <td>14999.000000</td>\n",
       "      <td>14999.000000</td>\n",
       "    </tr>\n",
       "    <tr>\n",
       "      <th>mean</th>\n",
       "      <td>0.612834</td>\n",
       "      <td>0.716102</td>\n",
       "      <td>3.803054</td>\n",
       "      <td>201.050337</td>\n",
       "      <td>3.498233</td>\n",
       "      <td>0.144610</td>\n",
       "      <td>0.238083</td>\n",
       "      <td>0.021268</td>\n",
       "    </tr>\n",
       "    <tr>\n",
       "      <th>std</th>\n",
       "      <td>0.248631</td>\n",
       "      <td>0.171169</td>\n",
       "      <td>1.232592</td>\n",
       "      <td>49.943099</td>\n",
       "      <td>1.460136</td>\n",
       "      <td>0.351719</td>\n",
       "      <td>0.425924</td>\n",
       "      <td>0.144281</td>\n",
       "    </tr>\n",
       "    <tr>\n",
       "      <th>min</th>\n",
       "      <td>0.090000</td>\n",
       "      <td>0.360000</td>\n",
       "      <td>2.000000</td>\n",
       "      <td>96.000000</td>\n",
       "      <td>2.000000</td>\n",
       "      <td>0.000000</td>\n",
       "      <td>0.000000</td>\n",
       "      <td>0.000000</td>\n",
       "    </tr>\n",
       "    <tr>\n",
       "      <th>25%</th>\n",
       "      <td>0.440000</td>\n",
       "      <td>0.560000</td>\n",
       "      <td>3.000000</td>\n",
       "      <td>156.000000</td>\n",
       "      <td>3.000000</td>\n",
       "      <td>0.000000</td>\n",
       "      <td>0.000000</td>\n",
       "      <td>0.000000</td>\n",
       "    </tr>\n",
       "    <tr>\n",
       "      <th>50%</th>\n",
       "      <td>0.640000</td>\n",
       "      <td>0.720000</td>\n",
       "      <td>4.000000</td>\n",
       "      <td>200.000000</td>\n",
       "      <td>3.000000</td>\n",
       "      <td>0.000000</td>\n",
       "      <td>0.000000</td>\n",
       "      <td>0.000000</td>\n",
       "    </tr>\n",
       "    <tr>\n",
       "      <th>75%</th>\n",
       "      <td>0.820000</td>\n",
       "      <td>0.870000</td>\n",
       "      <td>5.000000</td>\n",
       "      <td>245.000000</td>\n",
       "      <td>4.000000</td>\n",
       "      <td>0.000000</td>\n",
       "      <td>0.000000</td>\n",
       "      <td>0.000000</td>\n",
       "    </tr>\n",
       "    <tr>\n",
       "      <th>max</th>\n",
       "      <td>1.000000</td>\n",
       "      <td>1.000000</td>\n",
       "      <td>7.000000</td>\n",
       "      <td>310.000000</td>\n",
       "      <td>10.000000</td>\n",
       "      <td>1.000000</td>\n",
       "      <td>1.000000</td>\n",
       "      <td>1.000000</td>\n",
       "    </tr>\n",
       "  </tbody>\n",
       "</table>\n",
       "</div>"
      ],
      "text/plain": [
       "       satisfaction_level  last_evaluation  number_project  \\\n",
       "count        14999.000000     14999.000000    14999.000000   \n",
       "mean             0.612834         0.716102        3.803054   \n",
       "std              0.248631         0.171169        1.232592   \n",
       "min              0.090000         0.360000        2.000000   \n",
       "25%              0.440000         0.560000        3.000000   \n",
       "50%              0.640000         0.720000        4.000000   \n",
       "75%              0.820000         0.870000        5.000000   \n",
       "max              1.000000         1.000000        7.000000   \n",
       "\n",
       "       average_montly_hours  time_spend_company  Work_accident          left  \\\n",
       "count          14999.000000        14999.000000   14999.000000  14999.000000   \n",
       "mean             201.050337            3.498233       0.144610      0.238083   \n",
       "std               49.943099            1.460136       0.351719      0.425924   \n",
       "min               96.000000            2.000000       0.000000      0.000000   \n",
       "25%              156.000000            3.000000       0.000000      0.000000   \n",
       "50%              200.000000            3.000000       0.000000      0.000000   \n",
       "75%              245.000000            4.000000       0.000000      0.000000   \n",
       "max              310.000000           10.000000       1.000000      1.000000   \n",
       "\n",
       "       promotion_last_5years  \n",
       "count           14999.000000  \n",
       "mean                0.021268  \n",
       "std                 0.144281  \n",
       "min                 0.000000  \n",
       "25%                 0.000000  \n",
       "50%                 0.000000  \n",
       "75%                 0.000000  \n",
       "max                 1.000000  "
      ]
     },
     "execution_count": 441,
     "metadata": {},
     "output_type": "execute_result"
    }
   ],
   "source": [
    "df.describe()"
   ]
  },
  {
   "cell_type": "code",
   "execution_count": 442,
   "metadata": {},
   "outputs": [
    {
     "data": {
      "text/plain": [
       "array(['sales', 'accounting', 'hr', 'technical', 'support', 'management',\n",
       "       'IT', 'product_mng', 'marketing', 'RandD'], dtype=object)"
      ]
     },
     "execution_count": 442,
     "metadata": {},
     "output_type": "execute_result"
    }
   ],
   "source": [
    "df['sales'].unique()"
   ]
  },
  {
   "cell_type": "code",
   "execution_count": 443,
   "metadata": {},
   "outputs": [
    {
     "data": {
      "text/plain": [
       "array(['low', 'medium', 'high'], dtype=object)"
      ]
     },
     "execution_count": 443,
     "metadata": {},
     "output_type": "execute_result"
    }
   ],
   "source": [
    "df['salary'].unique()"
   ]
  },
  {
   "cell_type": "code",
   "execution_count": 444,
   "metadata": {},
   "outputs": [
    {
     "data": {
      "text/plain": [
       "<matplotlib.axes._subplots.AxesSubplot at 0x12be65208>"
      ]
     },
     "execution_count": 444,
     "metadata": {},
     "output_type": "execute_result"
    },
    {
     "data": {
      "image/png": "[encoded data removed]",
      "text/plain": [
       "<matplotlib.figure.Figure at 0x12be65828>"
      ]
     },
     "metadata": {
      "needs_background": "light"
     },
     "output_type": "display_data"
    }
   ],
   "source": [
    "plt.figure(figsize=(8,6))\n",
    "sns.distplot(df['satisfaction_level'])"
   ]
  },
  {
   "cell_type": "code",
   "execution_count": 445,
   "metadata": {},
   "outputs": [
    {
     "data": {
      "text/plain": [
       "<matplotlib.axes._subplots.AxesSubplot at 0x12c286550>"
      ]
     },
     "execution_count": 445,
     "metadata": {},
     "output_type": "execute_result"
    },
    {
     "data": {
      "image/png": "[encoded data removed]",
      "text/plain": [
       "<matplotlib.figure.Figure at 0x12c286588>"
      ]
     },
     "metadata": {
      "needs_background": "light"
     },
     "output_type": "display_data"
    }
   ],
   "source": [
    "plt.figure(figsize=(8,6))\n",
    "sns.distplot(df['last_evaluation'])"
   ]
  },
  {
   "cell_type": "code",
   "execution_count": 446,
   "metadata": {
    "scrolled": true
   },
   "outputs": [
    {
     "data": {
      "text/plain": [
       "<matplotlib.axes._subplots.AxesSubplot at 0x12c4226a0>"
      ]
     },
     "execution_count": 446,
     "metadata": {},
     "output_type": "execute_result"
    },
    {
     "data": {
      "image/png": "[encoded data removed]",
      "text/plain": [
       "<matplotlib.figure.Figure at 0x12c422978>"
      ]
     },
     "metadata": {
      "needs_background": "light"
     },
     "output_type": "display_data"
    }
   ],
   "source": [
    "plt.figure(figsize=(8,6))\n",
    "sns.distplot(df['average_montly_hours'])"
   ]
  },
  {
   "cell_type": "code",
   "execution_count": 447,
   "metadata": {},
   "outputs": [
    {
     "data": {
      "text/plain": [
       "<matplotlib.axes._subplots.AxesSubplot at 0x12c5a7f60>"
      ]
     },
     "execution_count": 447,
     "metadata": {},
     "output_type": "execute_result"
    },
    {
     "data": {
      "image/png": "[encoded data removed]",
      "text/plain": [
       "<matplotlib.figure.Figure at 0x12c5a7b38>"
      ]
     },
     "metadata": {
      "needs_background": "light"
     },
     "output_type": "display_data"
    }
   ],
   "source": [
    "plt.figure(figsize=(8,6))\n",
    "sns.distplot(df['number_project'], kde=False)"
   ]
  },
  {
   "cell_type": "code",
   "execution_count": 448,
   "metadata": {},
   "outputs": [
    {
     "data": {
      "text/plain": [
       "<matplotlib.axes._subplots.AxesSubplot at 0x12c74b7b8>"
      ]
     },
     "execution_count": 448,
     "metadata": {},
     "output_type": "execute_result"
    },
    {
     "data": {
      "image/png": "[encoded data removed]",
      "text/plain": [
       "<matplotlib.figure.Figure at 0x12c742ef0>"
      ]
     },
     "metadata": {
      "needs_background": "light"
     },
     "output_type": "display_data"
    }
   ],
   "source": [
    "plt.figure(figsize=(8,6))\n",
    "sns.distplot(df['time_spend_company'], kde=False)"
   ]
  },
  {
   "cell_type": "code",
   "execution_count": 449,
   "metadata": {},
   "outputs": [
    {
     "data": {
      "text/plain": [
       "<seaborn.axisgrid.JointGrid at 0x12c8a1630>"
      ]
     },
     "execution_count": 449,
     "metadata": {},
     "output_type": "execute_result"
    },
    {
     "data": {
      "text/plain": [
       "<matplotlib.figure.Figure at 0x12c8a1ef0>"
      ]
     },
     "metadata": {},
     "output_type": "display_data"
    },
    {
     "data": {
      "image/png": "[encoded data removed]",
      "text/plain": [
       "<matplotlib.figure.Figure at 0x12c8e0780>"
      ]
     },
     "metadata": {
      "needs_background": "light"
     },
     "output_type": "display_data"
    }
   ],
   "source": [
    "plt.figure(figsize=(12,10))\n",
    "sns.jointplot(x=df['satisfaction_level'], y=df['last_evaluation'], size=8, s=20)"
   ]
  },
  {
   "cell_type": "code",
   "execution_count": 450,
   "metadata": {
    "scrolled": true
   },
   "outputs": [
    {
     "data": {
      "text/plain": [
       "<seaborn.axisgrid.JointGrid at 0x12c88bb38>"
      ]
     },
     "execution_count": 450,
     "metadata": {},
     "output_type": "execute_result"
    },
    {
     "data": {
      "text/plain": [
       "<matplotlib.figure.Figure at 0x12cc6dba8>"
      ]
     },
     "metadata": {},
     "output_type": "display_data"
    },
    {
     "data": {
      "image/png": "[encoded data removed]",
      "text/plain": [
       "<matplotlib.figure.Figure at 0x12cbc1438>"
      ]
     },
     "metadata": {
      "needs_background": "light"
     },
     "output_type": "display_data"
    }
   ],
   "source": [
    "plt.figure(figsize=(12,10))\n",
    "sns.jointplot(x=df['satisfaction_level'], y=df['average_montly_hours'], size=8, s=20)"
   ]
  },
  {
   "cell_type": "code",
   "execution_count": 451,
   "metadata": {},
   "outputs": [
    {
     "data": {
      "text/plain": [
       "<seaborn.axisgrid.JointGrid at 0x12c93c898>"
      ]
     },
     "execution_count": 451,
     "metadata": {},
     "output_type": "execute_result"
    },
    {
     "data": {
      "text/plain": [
       "<matplotlib.figure.Figure at 0x12d0ccba8>"
      ]
     },
     "metadata": {},
     "output_type": "display_data"
    },
    {
     "data": {
      "image/png": "[encoded data removed]",
      "text/plain": [
       "<matplotlib.figure.Figure at 0x12d02f588>"
      ]
     },
     "metadata": {
      "needs_background": "light"
     },
     "output_type": "display_data"
    }
   ],
   "source": [
    "plt.figure(figsize=(12,10))\n",
    "sns.jointplot(x=df['time_spend_company'], y=df['satisfaction_level'], size=8, s=20)"
   ]
  },
  {
   "cell_type": "code",
   "execution_count": 453,
   "metadata": {},
   "outputs": [
    {
     "data": {
      "text/plain": [
       "0    0.761917\n",
       "1    0.238083\n",
       "Name: left, dtype: float64"
      ]
     },
     "execution_count": 453,
     "metadata": {},
     "output_type": "execute_result"
    }
   ],
   "source": [
    "# Establish a benchmark: what would be your accuracy score if you predicted everyone stay?\n",
    "\n",
    "df.left.value_counts() / len(df)"
   ]
  },
  {
   "cell_type": "code",
   "execution_count": 455,
   "metadata": {},
   "outputs": [
    {
     "data": {
      "text/plain": [
       "0    76.191746\n",
       "1    23.808254\n",
       "Name: left, dtype: float64"
      ]
     },
     "execution_count": 455,
     "metadata": {},
     "output_type": "execute_result"
    }
   ],
   "source": [
    "df['left'].value_counts()/len(df) * 100"
   ]
  },
  {
   "cell_type": "code",
   "execution_count": 456,
   "metadata": {},
   "outputs": [
    {
     "name": "stdout",
     "output_type": "stream",
     "text": [
      "['sales' 'accounting' 'hr' 'technical' 'support' 'management' 'IT'\n",
      " 'product_mng' 'marketing' 'RandD']\n",
      "['low' 'medium' 'high']\n"
     ]
    }
   ],
   "source": [
    "#pd.get_dummies(df['Gender'], prefix='Gender').head()\n",
    "#df.tail()\n",
    "print(df['sales'].unique())\n",
    "print(df['salary'].unique())"
   ]
  },
  {
   "cell_type": "code",
   "execution_count": 457,
   "metadata": {},
   "outputs": [],
   "source": [
    "sales = pd.get_dummies(df['sales'], prefix=\"sales\")"
   ]
  },
  {
   "cell_type": "code",
   "execution_count": 458,
   "metadata": {},
   "outputs": [],
   "source": [
    "salary = pd.get_dummies(df['salary'], prefix=\"salary\")"
   ]
  },
  {
   "cell_type": "code",
   "execution_count": 287,
   "metadata": {},
   "outputs": [],
   "source": [
    "#pd.concat([df, sales, salary], axis=1)"
   ]
  },
  {
   "cell_type": "code",
   "execution_count": 288,
   "metadata": {},
   "outputs": [],
   "source": [
    "#df_dummies = pd.get_dummies(df[['sales', 'salary']])"
   ]
  },
  {
   "cell_type": "code",
   "execution_count": 461,
   "metadata": {},
   "outputs": [],
   "source": [
    "df = pd.concat([df[['satisfaction_level', 'last_evaluation', 'number_project',\n",
    "                   'time_spend_company', 'Work_accident',\n",
    "                   'promotion_last_5years', 'average_montly_hours', 'left']], \n",
    "           sales, salary], axis=1)"
   ]
  },
  {
   "cell_type": "code",
   "execution_count": 462,
   "metadata": {},
   "outputs": [
    {
     "data": {
      "text/html": [
       "<div>\n",
       "<table border=\"1\" class=\"dataframe\">\n",
       "  <thead>\n",
       "    <tr style=\"text-align: right;\">\n",
       "      <th></th>\n",
       "      <th>satisfaction_level</th>\n",
       "      <th>last_evaluation</th>\n",
       "      <th>number_project</th>\n",
       "      <th>time_spend_company</th>\n",
       "      <th>Work_accident</th>\n",
       "      <th>promotion_last_5years</th>\n",
       "      <th>average_montly_hours</th>\n",
       "      <th>left</th>\n",
       "      <th>sales_IT</th>\n",
       "      <th>sales_RandD</th>\n",
       "      <th>...</th>\n",
       "      <th>sales_hr</th>\n",
       "      <th>sales_management</th>\n",
       "      <th>sales_marketing</th>\n",
       "      <th>sales_product_mng</th>\n",
       "      <th>sales_sales</th>\n",
       "      <th>sales_support</th>\n",
       "      <th>sales_technical</th>\n",
       "      <th>salary_high</th>\n",
       "      <th>salary_low</th>\n",
       "      <th>salary_medium</th>\n",
       "    </tr>\n",
       "  </thead>\n",
       "  <tbody>\n",
       "    <tr>\n",
       "      <th>0</th>\n",
       "      <td>0.38</td>\n",
       "      <td>0.53</td>\n",
       "      <td>2</td>\n",
       "      <td>3</td>\n",
       "      <td>0</td>\n",
       "      <td>0</td>\n",
       "      <td>157</td>\n",
       "      <td>1</td>\n",
       "      <td>0</td>\n",
       "      <td>0</td>\n",
       "      <td>...</td>\n",
       "      <td>0</td>\n",
       "      <td>0</td>\n",
       "      <td>0</td>\n",
       "      <td>0</td>\n",
       "      <td>1</td>\n",
       "      <td>0</td>\n",
       "      <td>0</td>\n",
       "      <td>0</td>\n",
       "      <td>1</td>\n",
       "      <td>0</td>\n",
       "    </tr>\n",
       "    <tr>\n",
       "      <th>1</th>\n",
       "      <td>0.80</td>\n",
       "      <td>0.86</td>\n",
       "      <td>5</td>\n",
       "      <td>6</td>\n",
       "      <td>0</td>\n",
       "      <td>0</td>\n",
       "      <td>262</td>\n",
       "      <td>1</td>\n",
       "      <td>0</td>\n",
       "      <td>0</td>\n",
       "      <td>...</td>\n",
       "      <td>0</td>\n",
       "      <td>0</td>\n",
       "      <td>0</td>\n",
       "      <td>0</td>\n",
       "      <td>1</td>\n",
       "      <td>0</td>\n",
       "      <td>0</td>\n",
       "      <td>0</td>\n",
       "      <td>0</td>\n",
       "      <td>1</td>\n",
       "    </tr>\n",
       "    <tr>\n",
       "      <th>2</th>\n",
       "      <td>0.11</td>\n",
       "      <td>0.88</td>\n",
       "      <td>7</td>\n",
       "      <td>4</td>\n",
       "      <td>0</td>\n",
       "      <td>0</td>\n",
       "      <td>272</td>\n",
       "      <td>1</td>\n",
       "      <td>0</td>\n",
       "      <td>0</td>\n",
       "      <td>...</td>\n",
       "      <td>0</td>\n",
       "      <td>0</td>\n",
       "      <td>0</td>\n",
       "      <td>0</td>\n",
       "      <td>1</td>\n",
       "      <td>0</td>\n",
       "      <td>0</td>\n",
       "      <td>0</td>\n",
       "      <td>0</td>\n",
       "      <td>1</td>\n",
       "    </tr>\n",
       "    <tr>\n",
       "      <th>3</th>\n",
       "      <td>0.72</td>\n",
       "      <td>0.87</td>\n",
       "      <td>5</td>\n",
       "      <td>5</td>\n",
       "      <td>0</td>\n",
       "      <td>0</td>\n",
       "      <td>223</td>\n",
       "      <td>1</td>\n",
       "      <td>0</td>\n",
       "      <td>0</td>\n",
       "      <td>...</td>\n",
       "      <td>0</td>\n",
       "      <td>0</td>\n",
       "      <td>0</td>\n",
       "      <td>0</td>\n",
       "      <td>1</td>\n",
       "      <td>0</td>\n",
       "      <td>0</td>\n",
       "      <td>0</td>\n",
       "      <td>1</td>\n",
       "      <td>0</td>\n",
       "    </tr>\n",
       "    <tr>\n",
       "      <th>4</th>\n",
       "      <td>0.37</td>\n",
       "      <td>0.52</td>\n",
       "      <td>2</td>\n",
       "      <td>3</td>\n",
       "      <td>0</td>\n",
       "      <td>0</td>\n",
       "      <td>159</td>\n",
       "      <td>1</td>\n",
       "      <td>0</td>\n",
       "      <td>0</td>\n",
       "      <td>...</td>\n",
       "      <td>0</td>\n",
       "      <td>0</td>\n",
       "      <td>0</td>\n",
       "      <td>0</td>\n",
       "      <td>1</td>\n",
       "      <td>0</td>\n",
       "      <td>0</td>\n",
       "      <td>0</td>\n",
       "      <td>1</td>\n",
       "      <td>0</td>\n",
       "    </tr>\n",
       "  </tbody>\n",
       "</table>\n",
       "<p>5 rows × 21 columns</p>\n",
       "</div>"
      ],
      "text/plain": [
       "   satisfaction_level  last_evaluation  number_project  time_spend_company  \\\n",
       "0                0.38             0.53               2                   3   \n",
       "1                0.80             0.86               5                   6   \n",
       "2                0.11             0.88               7                   4   \n",
       "3                0.72             0.87               5                   5   \n",
       "4                0.37             0.52               2                   3   \n",
       "\n",
       "   Work_accident  promotion_last_5years  average_montly_hours  left  sales_IT  \\\n",
       "0              0                      0                   157     1         0   \n",
       "1              0                      0                   262     1         0   \n",
       "2              0                      0                   272     1         0   \n",
       "3              0                      0                   223     1         0   \n",
       "4              0                      0                   159     1         0   \n",
       "\n",
       "   sales_RandD      ...        sales_hr  sales_management  sales_marketing  \\\n",
       "0            0      ...               0                 0                0   \n",
       "1            0      ...               0                 0                0   \n",
       "2            0      ...               0                 0                0   \n",
       "3            0      ...               0                 0                0   \n",
       "4            0      ...               0                 0                0   \n",
       "\n",
       "   sales_product_mng  sales_sales  sales_support  sales_technical  \\\n",
       "0                  0            1              0                0   \n",
       "1                  0            1              0                0   \n",
       "2                  0            1              0                0   \n",
       "3                  0            1              0                0   \n",
       "4                  0            1              0                0   \n",
       "\n",
       "   salary_high  salary_low  salary_medium  \n",
       "0            0           1              0  \n",
       "1            0           0              1  \n",
       "2            0           0              1  \n",
       "3            0           1              0  \n",
       "4            0           1              0  \n",
       "\n",
       "[5 rows x 21 columns]"
      ]
     },
     "execution_count": 462,
     "metadata": {},
     "output_type": "execute_result"
    }
   ],
   "source": [
    "df.head()"
   ]
  },
  {
   "cell_type": "code",
   "execution_count": 463,
   "metadata": {},
   "outputs": [
    {
     "name": "stderr",
     "output_type": "stream",
     "text": [
      "/anaconda3/envs/ztdl/lib/python3.5/site-packages/sklearn/utils/validation.py:429: DataConversionWarning: Data with input dtype int64 was converted to float64 by MinMaxScaler.\n",
      "  warnings.warn(msg, _DataConversionWarning)\n",
      "/anaconda3/envs/ztdl/lib/python3.5/site-packages/sklearn/preprocessing/data.py:321: DeprecationWarning: Passing 1d arrays as data is deprecated in 0.17 and will raise ValueError in 0.19. Reshape your data either using X.reshape(-1, 1) if your data has a single feature or X.reshape(1, -1) if it contains a single sample.\n",
      "  warnings.warn(DEPRECATION_MSG_1D, DeprecationWarning)\n",
      "/anaconda3/envs/ztdl/lib/python3.5/site-packages/sklearn/preprocessing/data.py:356: DeprecationWarning: Passing 1d arrays as data is deprecated in 0.17 and will raise ValueError in 0.19. Reshape your data either using X.reshape(-1, 1) if your data has a single feature or X.reshape(1, -1) if it contains a single sample.\n",
      "  warnings.warn(DEPRECATION_MSG_1D, DeprecationWarning)\n"
     ]
    }
   ],
   "source": [
    "df['average_montly_hours'] = MinMaxScaler().fit_transform(df['average_montly_hours'])"
   ]
  },
  {
   "cell_type": "code",
   "execution_count": 464,
   "metadata": {},
   "outputs": [
    {
     "data": {
      "text/html": [
       "<div>\n",
       "<table border=\"1\" class=\"dataframe\">\n",
       "  <thead>\n",
       "    <tr style=\"text-align: right;\">\n",
       "      <th></th>\n",
       "      <th>satisfaction_level</th>\n",
       "      <th>last_evaluation</th>\n",
       "      <th>number_project</th>\n",
       "      <th>time_spend_company</th>\n",
       "      <th>Work_accident</th>\n",
       "      <th>promotion_last_5years</th>\n",
       "      <th>average_montly_hours</th>\n",
       "      <th>left</th>\n",
       "      <th>sales_IT</th>\n",
       "      <th>sales_RandD</th>\n",
       "      <th>...</th>\n",
       "      <th>sales_hr</th>\n",
       "      <th>sales_management</th>\n",
       "      <th>sales_marketing</th>\n",
       "      <th>sales_product_mng</th>\n",
       "      <th>sales_sales</th>\n",
       "      <th>sales_support</th>\n",
       "      <th>sales_technical</th>\n",
       "      <th>salary_high</th>\n",
       "      <th>salary_low</th>\n",
       "      <th>salary_medium</th>\n",
       "    </tr>\n",
       "  </thead>\n",
       "  <tbody>\n",
       "    <tr>\n",
       "      <th>14994</th>\n",
       "      <td>0.40</td>\n",
       "      <td>0.57</td>\n",
       "      <td>2</td>\n",
       "      <td>3</td>\n",
       "      <td>0</td>\n",
       "      <td>0</td>\n",
       "      <td>0.257009</td>\n",
       "      <td>1</td>\n",
       "      <td>0</td>\n",
       "      <td>0</td>\n",
       "      <td>...</td>\n",
       "      <td>0</td>\n",
       "      <td>0</td>\n",
       "      <td>0</td>\n",
       "      <td>0</td>\n",
       "      <td>0</td>\n",
       "      <td>1</td>\n",
       "      <td>0</td>\n",
       "      <td>0</td>\n",
       "      <td>1</td>\n",
       "      <td>0</td>\n",
       "    </tr>\n",
       "    <tr>\n",
       "      <th>14995</th>\n",
       "      <td>0.37</td>\n",
       "      <td>0.48</td>\n",
       "      <td>2</td>\n",
       "      <td>3</td>\n",
       "      <td>0</td>\n",
       "      <td>0</td>\n",
       "      <td>0.299065</td>\n",
       "      <td>1</td>\n",
       "      <td>0</td>\n",
       "      <td>0</td>\n",
       "      <td>...</td>\n",
       "      <td>0</td>\n",
       "      <td>0</td>\n",
       "      <td>0</td>\n",
       "      <td>0</td>\n",
       "      <td>0</td>\n",
       "      <td>1</td>\n",
       "      <td>0</td>\n",
       "      <td>0</td>\n",
       "      <td>1</td>\n",
       "      <td>0</td>\n",
       "    </tr>\n",
       "    <tr>\n",
       "      <th>14996</th>\n",
       "      <td>0.37</td>\n",
       "      <td>0.53</td>\n",
       "      <td>2</td>\n",
       "      <td>3</td>\n",
       "      <td>0</td>\n",
       "      <td>0</td>\n",
       "      <td>0.219626</td>\n",
       "      <td>1</td>\n",
       "      <td>0</td>\n",
       "      <td>0</td>\n",
       "      <td>...</td>\n",
       "      <td>0</td>\n",
       "      <td>0</td>\n",
       "      <td>0</td>\n",
       "      <td>0</td>\n",
       "      <td>0</td>\n",
       "      <td>1</td>\n",
       "      <td>0</td>\n",
       "      <td>0</td>\n",
       "      <td>1</td>\n",
       "      <td>0</td>\n",
       "    </tr>\n",
       "    <tr>\n",
       "      <th>14997</th>\n",
       "      <td>0.11</td>\n",
       "      <td>0.96</td>\n",
       "      <td>6</td>\n",
       "      <td>4</td>\n",
       "      <td>0</td>\n",
       "      <td>0</td>\n",
       "      <td>0.859813</td>\n",
       "      <td>1</td>\n",
       "      <td>0</td>\n",
       "      <td>0</td>\n",
       "      <td>...</td>\n",
       "      <td>0</td>\n",
       "      <td>0</td>\n",
       "      <td>0</td>\n",
       "      <td>0</td>\n",
       "      <td>0</td>\n",
       "      <td>1</td>\n",
       "      <td>0</td>\n",
       "      <td>0</td>\n",
       "      <td>1</td>\n",
       "      <td>0</td>\n",
       "    </tr>\n",
       "    <tr>\n",
       "      <th>14998</th>\n",
       "      <td>0.37</td>\n",
       "      <td>0.52</td>\n",
       "      <td>2</td>\n",
       "      <td>3</td>\n",
       "      <td>0</td>\n",
       "      <td>0</td>\n",
       "      <td>0.289720</td>\n",
       "      <td>1</td>\n",
       "      <td>0</td>\n",
       "      <td>0</td>\n",
       "      <td>...</td>\n",
       "      <td>0</td>\n",
       "      <td>0</td>\n",
       "      <td>0</td>\n",
       "      <td>0</td>\n",
       "      <td>0</td>\n",
       "      <td>1</td>\n",
       "      <td>0</td>\n",
       "      <td>0</td>\n",
       "      <td>1</td>\n",
       "      <td>0</td>\n",
       "    </tr>\n",
       "  </tbody>\n",
       "</table>\n",
       "<p>5 rows × 21 columns</p>\n",
       "</div>"
      ],
      "text/plain": [
       "       satisfaction_level  last_evaluation  number_project  \\\n",
       "14994                0.40             0.57               2   \n",
       "14995                0.37             0.48               2   \n",
       "14996                0.37             0.53               2   \n",
       "14997                0.11             0.96               6   \n",
       "14998                0.37             0.52               2   \n",
       "\n",
       "       time_spend_company  Work_accident  promotion_last_5years  \\\n",
       "14994                   3              0                      0   \n",
       "14995                   3              0                      0   \n",
       "14996                   3              0                      0   \n",
       "14997                   4              0                      0   \n",
       "14998                   3              0                      0   \n",
       "\n",
       "       average_montly_hours  left  sales_IT  sales_RandD      ...        \\\n",
       "14994              0.257009     1         0            0      ...         \n",
       "14995              0.299065     1         0            0      ...         \n",
       "14996              0.219626     1         0            0      ...         \n",
       "14997              0.859813     1         0            0      ...         \n",
       "14998              0.289720     1         0            0      ...         \n",
       "\n",
       "       sales_hr  sales_management  sales_marketing  sales_product_mng  \\\n",
       "14994         0                 0                0                  0   \n",
       "14995         0                 0                0                  0   \n",
       "14996         0                 0                0                  0   \n",
       "14997         0                 0                0                  0   \n",
       "14998         0                 0                0                  0   \n",
       "\n",
       "       sales_sales  sales_support  sales_technical  salary_high  salary_low  \\\n",
       "14994            0              1                0            0           1   \n",
       "14995            0              1                0            0           1   \n",
       "14996            0              1                0            0           1   \n",
       "14997            0              1                0            0           1   \n",
       "14998            0              1                0            0           1   \n",
       "\n",
       "       salary_medium  \n",
       "14994              0  \n",
       "14995              0  \n",
       "14996              0  \n",
       "14997              0  \n",
       "14998              0  \n",
       "\n",
       "[5 rows x 21 columns]"
      ]
     },
     "execution_count": 464,
     "metadata": {},
     "output_type": "execute_result"
    }
   ],
   "source": [
    "df.tail()"
   ]
  },
  {
   "cell_type": "code",
   "execution_count": 465,
   "metadata": {},
   "outputs": [
    {
     "data": {
      "text/plain": [
       "Index(['satisfaction_level', 'last_evaluation', 'number_project',\n",
       "       'time_spend_company', 'Work_accident', 'promotion_last_5years',\n",
       "       'average_montly_hours', 'left', 'sales_IT', 'sales_RandD',\n",
       "       'sales_accounting', 'sales_hr', 'sales_management', 'sales_marketing',\n",
       "       'sales_product_mng', 'sales_sales', 'sales_support', 'sales_technical',\n",
       "       'salary_high', 'salary_low', 'salary_medium'],\n",
       "      dtype='object')"
      ]
     },
     "execution_count": 465,
     "metadata": {},
     "output_type": "execute_result"
    }
   ],
   "source": [
    "df.columns"
   ]
  },
  {
   "cell_type": "code",
   "execution_count": 525,
   "metadata": {},
   "outputs": [],
   "source": [
    "X = df[['satisfaction_level', 'last_evaluation', 'number_project',\n",
    "       'time_spend_company', 'Work_accident', 'promotion_last_5years',\n",
    "       'average_montly_hours', 'sales_IT', 'sales_RandD', 'sales_accounting',\n",
    "       'sales_hr', 'sales_management', 'sales_marketing', 'sales_product_mng',\n",
    "       'sales_sales', 'sales_support', 'sales_technical', 'salary_high',\n",
    "       'salary_low', 'salary_medium']].values\n",
    "y = df['left'].values"
   ]
  },
  {
   "cell_type": "code",
   "execution_count": 467,
   "metadata": {},
   "outputs": [
    {
     "data": {
      "text/plain": [
       "(14999, 20)"
      ]
     },
     "execution_count": 467,
     "metadata": {},
     "output_type": "execute_result"
    }
   ],
   "source": [
    "X.shape"
   ]
  },
  {
   "cell_type": "code",
   "execution_count": 468,
   "metadata": {},
   "outputs": [
    {
     "data": {
      "text/plain": [
       "(14999,)"
      ]
     },
     "execution_count": 468,
     "metadata": {},
     "output_type": "execute_result"
    }
   ],
   "source": [
    "y.shape"
   ]
  },
  {
   "cell_type": "code",
   "execution_count": 469,
   "metadata": {},
   "outputs": [],
   "source": [
    "X_train, X_test, y_train, y_test = train_test_split(X, y, test_size=0.2, random_state=42)"
   ]
  },
  {
   "cell_type": "code",
   "execution_count": 571,
   "metadata": {},
   "outputs": [],
   "source": [
    "# Dummy Classifier compare to benchmark above and results below\n",
    "from sklearn.dummy import DummyClassifier"
   ]
  },
  {
   "cell_type": "code",
   "execution_count": 582,
   "metadata": {},
   "outputs": [],
   "source": [
    "dummy = DummyClassifier(strategy='stratified', random_state=42)"
   ]
  },
  {
   "cell_type": "code",
   "execution_count": 583,
   "metadata": {},
   "outputs": [
    {
     "data": {
      "text/plain": [
       "DummyClassifier(constant=None, random_state=42, strategy='stratified')"
      ]
     },
     "execution_count": 583,
     "metadata": {},
     "output_type": "execute_result"
    }
   ],
   "source": [
    "dummy.fit(X_train, y_train)"
   ]
  },
  {
   "cell_type": "code",
   "execution_count": 584,
   "metadata": {},
   "outputs": [],
   "source": [
    "dummy_pred = dummy.predict(X_test)"
   ]
  },
  {
   "cell_type": "code",
   "execution_count": 585,
   "metadata": {},
   "outputs": [
    {
     "data": {
      "text/plain": [
       "array([[1745,  549],\n",
       "       [ 529,  177]])"
      ]
     },
     "execution_count": 585,
     "metadata": {},
     "output_type": "execute_result"
    }
   ],
   "source": [
    "confusion_matrix(y_test, dummy_pred)"
   ]
  },
  {
   "cell_type": "code",
   "execution_count": 586,
   "metadata": {},
   "outputs": [
    {
     "name": "stdout",
     "output_type": "stream",
     "text": [
      "             precision    recall  f1-score   support\n",
      "\n",
      "          0       0.77      0.76      0.76      2294\n",
      "          1       0.24      0.25      0.25       706\n",
      "\n",
      "avg / total       0.64      0.64      0.64      3000\n",
      "\n"
     ]
    }
   ],
   "source": [
    "print(classification_report(y_test, dummy_pred))"
   ]
  },
  {
   "cell_type": "code",
   "execution_count": 470,
   "metadata": {},
   "outputs": [
    {
     "data": {
      "text/plain": [
       "LogisticRegression(C=10, class_weight=None, dual=False, fit_intercept=True,\n",
       "          intercept_scaling=1, max_iter=100, multi_class='ovr', n_jobs=1,\n",
       "          penalty='l1', random_state=None, solver='liblinear', tol=0.0001,\n",
       "          verbose=0, warm_start=False)"
      ]
     },
     "execution_count": 470,
     "metadata": {},
     "output_type": "execute_result"
    }
   ],
   "source": [
    "lr = LogisticRegression(C=10, penalty='l1')\n",
    "lr.fit(X_train, y_train)"
   ]
  },
  {
   "cell_type": "code",
   "execution_count": 471,
   "metadata": {},
   "outputs": [],
   "source": [
    "predictions = lr.predict(X_test)"
   ]
  },
  {
   "cell_type": "code",
   "execution_count": 472,
   "metadata": {},
   "outputs": [
    {
     "name": "stdout",
     "output_type": "stream",
     "text": [
      "             precision    recall  f1-score   support\n",
      "\n",
      "          0       0.82      0.92      0.87      2294\n",
      "          1       0.57      0.34      0.42       706\n",
      "\n",
      "avg / total       0.76      0.78      0.76      3000\n",
      "\n"
     ]
    }
   ],
   "source": [
    "print(classification_report(y_test, predictions))"
   ]
  },
  {
   "cell_type": "code",
   "execution_count": 473,
   "metadata": {},
   "outputs": [
    {
     "data": {
      "text/plain": [
       "array([[2116,  178],\n",
       "       [ 469,  237]])"
      ]
     },
     "execution_count": 473,
     "metadata": {},
     "output_type": "execute_result"
    }
   ],
   "source": [
    "confusion_matrix(y_test, predictions)"
   ]
  },
  {
   "cell_type": "code",
   "execution_count": 474,
   "metadata": {},
   "outputs": [
    {
     "data": {
      "text/plain": [
       "0    11428\n",
       "1     3571\n",
       "Name: left, dtype: int64"
      ]
     },
     "execution_count": 474,
     "metadata": {},
     "output_type": "execute_result"
    }
   ],
   "source": [
    "df.left.value_counts()"
   ]
  },
  {
   "cell_type": "code",
   "execution_count": 363,
   "metadata": {},
   "outputs": [
    {
     "data": {
      "text/plain": [
       "3000"
      ]
     },
     "execution_count": 363,
     "metadata": {},
     "output_type": "execute_result"
    }
   ],
   "source": [
    "2116 + 237 + 469 + 178 "
   ]
  },
  {
   "cell_type": "code",
   "execution_count": 366,
   "metadata": {},
   "outputs": [
    {
     "data": {
      "text/plain": [
       "2999.8"
      ]
     },
     "execution_count": 366,
     "metadata": {},
     "output_type": "execute_result"
    }
   ],
   "source": [
    "len(df)*0.2"
   ]
  },
  {
   "cell_type": "code",
   "execution_count": 368,
   "metadata": {
    "scrolled": true
   },
   "outputs": [
    {
     "data": {
      "text/plain": [
       "0.7843333333333333"
      ]
     },
     "execution_count": 368,
     "metadata": {},
     "output_type": "execute_result"
    }
   ],
   "source": [
    "2353/3000"
   ]
  },
  {
   "cell_type": "code",
   "execution_count": 475,
   "metadata": {},
   "outputs": [
    {
     "data": {
      "text/plain": [
       "(14999, 21)"
      ]
     },
     "execution_count": 475,
     "metadata": {},
     "output_type": "execute_result"
    }
   ],
   "source": [
    "df.shape"
   ]
  },
  {
   "cell_type": "code",
   "execution_count": 476,
   "metadata": {},
   "outputs": [],
   "source": [
    "def build_model(optimizer,input_shape, units, activation, loss, metrics):\n",
    "    model = Sequential()\n",
    "    model.add(Dense(units=units, input_shape=input_shape, activation=activation))\n",
    "    model.compile(optimizer=optimizer, loss=loss, metrics=[metrics])\n",
    "    model.summary()\n",
    "    return(model)"
   ]
  },
  {
   "cell_type": "code",
   "execution_count": 533,
   "metadata": {},
   "outputs": [],
   "source": [
    "def build_logistic_regression_model():\n",
    "    model = Sequential()\n",
    "    model.add(Dense(1, input_dim=20, activation='sigmoid'))\n",
    "    model.compile(Adam(lr=0.5), 'binary_crossentropy', metrics=['accuracy'])\n",
    "    model.summary()\n",
    "    return(model)"
   ]
  },
  {
   "cell_type": "code",
   "execution_count": 534,
   "metadata": {},
   "outputs": [
    {
     "name": "stdout",
     "output_type": "stream",
     "text": [
      "_________________________________________________________________\n",
      "Layer (type)                 Output Shape              Param #   \n",
      "=================================================================\n",
      "dense_42 (Dense)             (None, 1)                 21        \n",
      "=================================================================\n",
      "Total params: 21\n",
      "Trainable params: 21\n",
      "Non-trainable params: 0\n",
      "_________________________________________________________________\n"
     ]
    }
   ],
   "source": [
    "#model = build_model(SGD(lr=0.5), (20,), 1, 'sigmoid', 'binary_crossentropy', 'accuracy')\n",
    "model = build_logistic_regression_model()"
   ]
  },
  {
   "cell_type": "code",
   "execution_count": 535,
   "metadata": {},
   "outputs": [
    {
     "data": {
      "text/plain": [
       "<keras.callbacks.History at 0x12bc78cf8>"
      ]
     },
     "execution_count": 535,
     "metadata": {},
     "output_type": "execute_result"
    }
   ],
   "source": [
    "model.fit(X_train, y_train, epochs=100, verbose=0)"
   ]
  },
  {
   "cell_type": "code",
   "execution_count": 536,
   "metadata": {},
   "outputs": [
    {
     "name": "stdout",
     "output_type": "stream",
     "text": [
      "\r",
      "  32/3000 [..............................] - ETA: 16s"
     ]
    }
   ],
   "source": [
    "y_pred = model.predict_classes(X_test)"
   ]
  },
  {
   "cell_type": "code",
   "execution_count": 537,
   "metadata": {},
   "outputs": [
    {
     "data": {
      "text/plain": [
       "array([[1864,  430],\n",
       "       [ 254,  452]])"
      ]
     },
     "execution_count": 537,
     "metadata": {},
     "output_type": "execute_result"
    }
   ],
   "source": [
    "confusion_matrix(y_test, y_pred)"
   ]
  },
  {
   "cell_type": "code",
   "execution_count": 538,
   "metadata": {
    "scrolled": true
   },
   "outputs": [
    {
     "name": "stdout",
     "output_type": "stream",
     "text": [
      "             precision    recall  f1-score   support\n",
      "\n",
      "          0       0.88      0.81      0.84      2294\n",
      "          1       0.51      0.64      0.57       706\n",
      "\n",
      "avg / total       0.79      0.77      0.78      3000\n",
      "\n"
     ]
    }
   ],
   "source": [
    "print(classification_report(y_test, y_pred))"
   ]
  },
  {
   "cell_type": "code",
   "execution_count": 539,
   "metadata": {},
   "outputs": [],
   "source": [
    "model = KerasClassifier(build_fn=build_logistic_regression_model,\n",
    "                        epochs=10, verbose=0)"
   ]
  },
  {
   "cell_type": "code",
   "execution_count": 540,
   "metadata": {},
   "outputs": [
    {
     "name": "stdout",
     "output_type": "stream",
     "text": [
      "_________________________________________________________________\n",
      "Layer (type)                 Output Shape              Param #   \n",
      "=================================================================\n",
      "dense_43 (Dense)             (None, 1)                 21        \n",
      "=================================================================\n",
      "Total params: 21\n",
      "Trainable params: 21\n",
      "Non-trainable params: 0\n",
      "_________________________________________________________________\n",
      "_________________________________________________________________\n",
      "Layer (type)                 Output Shape              Param #   \n",
      "=================================================================\n",
      "dense_44 (Dense)             (None, 1)                 21        \n",
      "=================================================================\n",
      "Total params: 21\n",
      "Trainable params: 21\n",
      "Non-trainable params: 0\n",
      "_________________________________________________________________\n",
      "_________________________________________________________________\n",
      "Layer (type)                 Output Shape              Param #   \n",
      "=================================================================\n",
      "dense_45 (Dense)             (None, 1)                 21        \n",
      "=================================================================\n",
      "Total params: 21\n",
      "Trainable params: 21\n",
      "Non-trainable params: 0\n",
      "_________________________________________________________________\n",
      "_________________________________________________________________\n",
      "Layer (type)                 Output Shape              Param #   \n",
      "=================================================================\n",
      "dense_46 (Dense)             (None, 1)                 21        \n",
      "=================================================================\n",
      "Total params: 21\n",
      "Trainable params: 21\n",
      "Non-trainable params: 0\n",
      "_________________________________________________________________\n",
      "_________________________________________________________________\n",
      "Layer (type)                 Output Shape              Param #   \n",
      "=================================================================\n",
      "dense_47 (Dense)             (None, 1)                 21        \n",
      "=================================================================\n",
      "Total params: 21\n",
      "Trainable params: 21\n",
      "Non-trainable params: 0\n",
      "_________________________________________________________________\n",
      "The cross validation accuracy is 0.7745 ± 0.0121\n"
     ]
    }
   ],
   "source": [
    "cv = KFold(5, shuffle=True)\n",
    "scores = cross_val_score(model, X, y, cv=cv)\n",
    "\n",
    "print(\"The cross validation accuracy is {:0.4f} ± {:0.4f}\".format(scores.mean(), scores.std()))"
   ]
  },
  {
   "cell_type": "code",
   "execution_count": 541,
   "metadata": {},
   "outputs": [
    {
     "data": {
      "text/plain": [
       "array([ 0.79066667,  0.781     ,  0.75866667,  0.78      ,  0.76225408])"
      ]
     },
     "execution_count": 541,
     "metadata": {},
     "output_type": "execute_result"
    }
   ],
   "source": [
    "scores"
   ]
  },
  {
   "cell_type": "code",
   "execution_count": 542,
   "metadata": {},
   "outputs": [],
   "source": [
    "# This model is not very good as it does no better than the \"benchmark\" "
   ]
  },
  {
   "cell_type": "code",
   "execution_count": null,
   "metadata": {},
   "outputs": [],
   "source": []
  },
  {
   "cell_type": "code",
   "execution_count": null,
   "metadata": {},
   "outputs": [],
   "source": []
  },
  {
   "cell_type": "code",
   "execution_count": 486,
   "metadata": {
    "scrolled": true
   },
   "outputs": [
    {
     "name": "stdout",
     "output_type": "stream",
     "text": [
      "_________________________________________________________________\n",
      "Layer (type)                 Output Shape              Param #   \n",
      "=================================================================\n",
      "dense_34 (Dense)             (None, 1)                 21        \n",
      "=================================================================\n",
      "Total params: 21\n",
      "Trainable params: 21\n",
      "Non-trainable params: 0\n",
      "_________________________________________________________________\n"
     ]
    }
   ],
   "source": [
    "model = build_model(SGD(lr=0.1), (20,), 1, 'sigmoid', 'binary_crossentropy', 'accuracy')"
   ]
  },
  {
   "cell_type": "code",
   "execution_count": 487,
   "metadata": {},
   "outputs": [
    {
     "data": {
      "text/plain": [
       "<keras.callbacks.History at 0x12eaef550>"
      ]
     },
     "execution_count": 487,
     "metadata": {},
     "output_type": "execute_result"
    }
   ],
   "source": [
    "model.fit(X_train, y_train, epochs=100, verbose=0)"
   ]
  },
  {
   "cell_type": "code",
   "execution_count": 488,
   "metadata": {},
   "outputs": [
    {
     "name": "stdout",
     "output_type": "stream",
     "text": [
      "\r",
      "  32/3000 [..............................] - ETA: 12s"
     ]
    }
   ],
   "source": [
    "y_pred = model.predict_classes(X_test)"
   ]
  },
  {
   "cell_type": "code",
   "execution_count": 489,
   "metadata": {},
   "outputs": [
    {
     "data": {
      "text/plain": [
       "array([[2175,  119],\n",
       "       [ 565,  141]])"
      ]
     },
     "execution_count": 489,
     "metadata": {},
     "output_type": "execute_result"
    }
   ],
   "source": [
    "confusion_matrix(y_test, y_pred)"
   ]
  },
  {
   "cell_type": "code",
   "execution_count": 490,
   "metadata": {},
   "outputs": [
    {
     "name": "stdout",
     "output_type": "stream",
     "text": [
      "             precision    recall  f1-score   support\n",
      "\n",
      "          0       0.79      0.95      0.86      2294\n",
      "          1       0.54      0.20      0.29       706\n",
      "\n",
      "avg / total       0.73      0.77      0.73      3000\n",
      "\n"
     ]
    }
   ],
   "source": [
    "print(classification_report(y_test, y_pred))"
   ]
  },
  {
   "cell_type": "code",
   "execution_count": 511,
   "metadata": {},
   "outputs": [
    {
     "name": "stdout",
     "output_type": "stream",
     "text": [
      "_________________________________________________________________\n",
      "Layer (type)                 Output Shape              Param #   \n",
      "=================================================================\n",
      "dense_39 (Dense)             (None, 1)                 21        \n",
      "=================================================================\n",
      "Total params: 21\n",
      "Trainable params: 21\n",
      "Non-trainable params: 0\n",
      "_________________________________________________________________\n"
     ]
    }
   ],
   "source": [
    "model = build_model(Adam(lr=0.5), (20,), 1, 'sigmoid', 'binary_crossentropy', 'accuracy')"
   ]
  },
  {
   "cell_type": "code",
   "execution_count": 512,
   "metadata": {},
   "outputs": [
    {
     "data": {
      "text/plain": [
       "<keras.callbacks.History at 0x127e62f98>"
      ]
     },
     "execution_count": 512,
     "metadata": {},
     "output_type": "execute_result"
    }
   ],
   "source": [
    "model.fit(X_train, y_train, epochs=100, verbose=0)"
   ]
  },
  {
   "cell_type": "code",
   "execution_count": 513,
   "metadata": {},
   "outputs": [
    {
     "name": "stdout",
     "output_type": "stream",
     "text": [
      "\r",
      "  32/3000 [..............................] - ETA: 15s"
     ]
    }
   ],
   "source": [
    "y_pred = model.predict_classes(X_test)"
   ]
  },
  {
   "cell_type": "code",
   "execution_count": 514,
   "metadata": {
    "scrolled": true
   },
   "outputs": [
    {
     "data": {
      "text/plain": [
       "array([[1933,  361],\n",
       "       [ 304,  402]])"
      ]
     },
     "execution_count": 514,
     "metadata": {},
     "output_type": "execute_result"
    }
   ],
   "source": [
    "confusion_matrix(y_test, y_pred)"
   ]
  },
  {
   "cell_type": "code",
   "execution_count": 515,
   "metadata": {},
   "outputs": [
    {
     "name": "stdout",
     "output_type": "stream",
     "text": [
      "             precision    recall  f1-score   support\n",
      "\n",
      "          0       0.86      0.84      0.85      2294\n",
      "          1       0.53      0.57      0.55       706\n",
      "\n",
      "avg / total       0.78      0.78      0.78      3000\n",
      "\n"
     ]
    }
   ],
   "source": [
    "print(classification_report(y_test, y_pred))"
   ]
  },
  {
   "cell_type": "code",
   "execution_count": 518,
   "metadata": {},
   "outputs": [
    {
     "name": "stdout",
     "output_type": "stream",
     "text": [
      "_________________________________________________________________\n",
      "Layer (type)                 Output Shape              Param #   \n",
      "=================================================================\n",
      "dense_40 (Dense)             (None, 1)                 21        \n",
      "=================================================================\n",
      "Total params: 21\n",
      "Trainable params: 21\n",
      "Non-trainable params: 0\n",
      "_________________________________________________________________\n"
     ]
    }
   ],
   "source": [
    "model = KerasClassifier(build_fn=build_model(Adam(lr=0.5), (20,), 1, 'sigmoid', 'binary_crossentropy', 'accuracy'),\n",
    "                        epochs=100, verbose=0)"
   ]
  },
  {
   "cell_type": "code",
   "execution_count": 544,
   "metadata": {},
   "outputs": [
    {
     "name": "stdout",
     "output_type": "stream",
     "text": [
      "_________________________________________________________________\n",
      "Layer (type)                 Output Shape              Param #   \n",
      "=================================================================\n",
      "dense_53 (Dense)             (None, 1)                 21        \n",
      "=================================================================\n",
      "Total params: 21\n",
      "Trainable params: 21\n",
      "Non-trainable params: 0\n",
      "_________________________________________________________________\n",
      "_________________________________________________________________\n",
      "Layer (type)                 Output Shape              Param #   \n",
      "=================================================================\n",
      "dense_54 (Dense)             (None, 1)                 21        \n",
      "=================================================================\n",
      "Total params: 21\n",
      "Trainable params: 21\n",
      "Non-trainable params: 0\n",
      "_________________________________________________________________\n",
      "_________________________________________________________________\n",
      "Layer (type)                 Output Shape              Param #   \n",
      "=================================================================\n",
      "dense_55 (Dense)             (None, 1)                 21        \n",
      "=================================================================\n",
      "Total params: 21\n",
      "Trainable params: 21\n",
      "Non-trainable params: 0\n",
      "_________________________________________________________________\n",
      "_________________________________________________________________\n",
      "Layer (type)                 Output Shape              Param #   \n",
      "=================================================================\n",
      "dense_56 (Dense)             (None, 1)                 21        \n",
      "=================================================================\n",
      "Total params: 21\n",
      "Trainable params: 21\n",
      "Non-trainable params: 0\n",
      "_________________________________________________________________\n",
      "_________________________________________________________________\n",
      "Layer (type)                 Output Shape              Param #   \n",
      "=================================================================\n",
      "dense_57 (Dense)             (None, 1)                 21        \n",
      "=================================================================\n",
      "Total params: 21\n",
      "Trainable params: 21\n",
      "Non-trainable params: 0\n",
      "_________________________________________________________________\n",
      "The cross validation accuracy is 0.7399 ± 0.0866\n"
     ]
    }
   ],
   "source": [
    "cv = KFold(5, shuffle=True)\n",
    "scores = cross_val_score(model, X, y, cv=cv)\n",
    "\n",
    "print(\"The cross validation accuracy is {:0.4f} ± {:0.4f}\".format(scores.mean(), scores.std()))"
   ]
  },
  {
   "cell_type": "code",
   "execution_count": 545,
   "metadata": {},
   "outputs": [
    {
     "data": {
      "text/plain": [
       "array([ 0.80033333,  0.77833333,  0.56766667,  0.77633333,  0.77692564])"
      ]
     },
     "execution_count": 545,
     "metadata": {},
     "output_type": "execute_result"
    }
   ],
   "source": [
    "scores"
   ]
  },
  {
   "cell_type": "code",
   "execution_count": 546,
   "metadata": {},
   "outputs": [],
   "source": [
    "# This model is not very good and really does no better than the \"benchmark\".\n",
    "# Go back to sklearn and try an SVM or other model"
   ]
  },
  {
   "cell_type": "code",
   "execution_count": 547,
   "metadata": {},
   "outputs": [],
   "source": [
    "from sklearn.svm import SVC"
   ]
  },
  {
   "cell_type": "code",
   "execution_count": 548,
   "metadata": {},
   "outputs": [],
   "source": [
    "model = SVC()"
   ]
  },
  {
   "cell_type": "code",
   "execution_count": 549,
   "metadata": {},
   "outputs": [
    {
     "data": {
      "text/plain": [
       "SVC(C=1.0, cache_size=200, class_weight=None, coef0=0.0,\n",
       "  decision_function_shape=None, degree=3, gamma='auto', kernel='rbf',\n",
       "  max_iter=-1, probability=False, random_state=None, shrinking=True,\n",
       "  tol=0.001, verbose=False)"
      ]
     },
     "execution_count": 549,
     "metadata": {},
     "output_type": "execute_result"
    }
   ],
   "source": [
    "model.fit(X_train,y_train)"
   ]
  },
  {
   "cell_type": "code",
   "execution_count": 550,
   "metadata": {},
   "outputs": [
    {
     "name": "stdout",
     "output_type": "stream",
     "text": [
      "[[2116  178]\n",
      " [ 469  237]]\n"
     ]
    }
   ],
   "source": [
    "print(confusion_matrix(y_test,predictions))"
   ]
  },
  {
   "cell_type": "code",
   "execution_count": 551,
   "metadata": {},
   "outputs": [
    {
     "name": "stdout",
     "output_type": "stream",
     "text": [
      "             precision    recall  f1-score   support\n",
      "\n",
      "          0       0.82      0.92      0.87      2294\n",
      "          1       0.57      0.34      0.42       706\n",
      "\n",
      "avg / total       0.76      0.78      0.76      3000\n",
      "\n"
     ]
    }
   ],
   "source": [
    "print(classification_report(y_test,predictions))"
   ]
  },
  {
   "cell_type": "code",
   "execution_count": 552,
   "metadata": {},
   "outputs": [],
   "source": [
    "from sklearn.model_selection import GridSearchCV"
   ]
  },
  {
   "cell_type": "code",
   "execution_count": 553,
   "metadata": {},
   "outputs": [],
   "source": [
    "param_grid = {'C': [0.1,1, 10, 100, 1000], 'gamma': [1,0.1,0.01,0.001,0.0001], 'kernel': ['rbf']}"
   ]
  },
  {
   "cell_type": "code",
   "execution_count": 554,
   "metadata": {},
   "outputs": [],
   "source": [
    "grid = GridSearchCV(SVC(),param_grid,refit=True,verbose=3)"
   ]
  },
  {
   "cell_type": "code",
   "execution_count": 555,
   "metadata": {},
   "outputs": [
    {
     "name": "stdout",
     "output_type": "stream",
     "text": [
      "Fitting 3 folds for each of 25 candidates, totalling 75 fits\n",
      "[CV] kernel=rbf, gamma=1, C=0.1 ......................................\n",
      "[CV] ....... kernel=rbf, gamma=1, C=0.1, score=0.933500, total=   1.3s\n",
      "[CV] kernel=rbf, gamma=1, C=0.1 ......................................\n"
     ]
    },
    {
     "name": "stderr",
     "output_type": "stream",
     "text": [
      "[Parallel(n_jobs=1)]: Done   1 out of   1 | elapsed:    2.0s remaining:    0.0s\n"
     ]
    },
    {
     "name": "stdout",
     "output_type": "stream",
     "text": [
      "[CV] ....... kernel=rbf, gamma=1, C=0.1, score=0.935250, total=   1.3s\n",
      "[CV] kernel=rbf, gamma=1, C=0.1 ......................................\n"
     ]
    },
    {
     "name": "stderr",
     "output_type": "stream",
     "text": [
      "[Parallel(n_jobs=1)]: Done   2 out of   2 | elapsed:    3.9s remaining:    0.0s\n"
     ]
    },
    {
     "name": "stdout",
     "output_type": "stream",
     "text": [
      "[CV] ....... kernel=rbf, gamma=1, C=0.1, score=0.937484, total=   1.3s\n",
      "[CV] kernel=rbf, gamma=0.1, C=0.1 ....................................\n",
      "[CV] ..... kernel=rbf, gamma=0.1, C=0.1, score=0.911250, total=   1.1s\n",
      "[CV] kernel=rbf, gamma=0.1, C=0.1 ....................................\n",
      "[CV] ..... kernel=rbf, gamma=0.1, C=0.1, score=0.905000, total=   1.1s\n",
      "[CV] kernel=rbf, gamma=0.1, C=0.1 ....................................\n",
      "[CV] ..... kernel=rbf, gamma=0.1, C=0.1, score=0.915479, total=   1.2s\n",
      "[CV] kernel=rbf, gamma=0.01, C=0.1 ...................................\n",
      "[CV] .... kernel=rbf, gamma=0.01, C=0.1, score=0.761500, total=   1.9s\n",
      "[CV] kernel=rbf, gamma=0.01, C=0.1 ...................................\n",
      "[CV] .... kernel=rbf, gamma=0.01, C=0.1, score=0.761250, total=   1.9s\n",
      "[CV] kernel=rbf, gamma=0.01, C=0.1 ...................................\n",
      "[CV] .... kernel=rbf, gamma=0.01, C=0.1, score=0.761940, total=   2.2s\n",
      "[CV] kernel=rbf, gamma=0.001, C=0.1 ..................................\n",
      "[CV] ... kernel=rbf, gamma=0.001, C=0.1, score=0.761250, total=   2.3s\n",
      "[CV] kernel=rbf, gamma=0.001, C=0.1 ..................................\n",
      "[CV] ... kernel=rbf, gamma=0.001, C=0.1, score=0.761250, total=   2.1s\n",
      "[CV] kernel=rbf, gamma=0.001, C=0.1 ..................................\n",
      "[CV] ... kernel=rbf, gamma=0.001, C=0.1, score=0.761190, total=   2.0s\n",
      "[CV] kernel=rbf, gamma=0.0001, C=0.1 .................................\n",
      "[CV] .. kernel=rbf, gamma=0.0001, C=0.1, score=0.761250, total=   1.9s\n",
      "[CV] kernel=rbf, gamma=0.0001, C=0.1 .................................\n",
      "[CV] .. kernel=rbf, gamma=0.0001, C=0.1, score=0.761250, total=   1.9s\n",
      "[CV] kernel=rbf, gamma=0.0001, C=0.1 .................................\n",
      "[CV] .. kernel=rbf, gamma=0.0001, C=0.1, score=0.761190, total=   1.7s\n",
      "[CV] kernel=rbf, gamma=1, C=1 ........................................\n",
      "[CV] ......... kernel=rbf, gamma=1, C=1, score=0.952000, total=   0.9s\n",
      "[CV] kernel=rbf, gamma=1, C=1 ........................................\n",
      "[CV] ......... kernel=rbf, gamma=1, C=1, score=0.957250, total=   0.9s\n",
      "[CV] kernel=rbf, gamma=1, C=1 ........................................\n",
      "[CV] ......... kernel=rbf, gamma=1, C=1, score=0.956489, total=   0.8s\n",
      "[CV] kernel=rbf, gamma=0.1, C=1 ......................................\n",
      "[CV] ....... kernel=rbf, gamma=0.1, C=1, score=0.949750, total=   0.6s\n",
      "[CV] kernel=rbf, gamma=0.1, C=1 ......................................\n",
      "[CV] ....... kernel=rbf, gamma=0.1, C=1, score=0.953750, total=   0.7s\n",
      "[CV] kernel=rbf, gamma=0.1, C=1 ......................................\n",
      "[CV] ....... kernel=rbf, gamma=0.1, C=1, score=0.956489, total=   0.7s\n",
      "[CV] kernel=rbf, gamma=0.01, C=1 .....................................\n",
      "[CV] ...... kernel=rbf, gamma=0.01, C=1, score=0.872750, total=   1.5s\n",
      "[CV] kernel=rbf, gamma=0.01, C=1 .....................................\n",
      "[CV] ...... kernel=rbf, gamma=0.01, C=1, score=0.869500, total=   1.5s\n",
      "[CV] kernel=rbf, gamma=0.01, C=1 .....................................\n",
      "[CV] ...... kernel=rbf, gamma=0.01, C=1, score=0.880470, total=   1.7s\n",
      "[CV] kernel=rbf, gamma=0.001, C=1 ....................................\n",
      "[CV] ..... kernel=rbf, gamma=0.001, C=1, score=0.761250, total=   1.9s\n",
      "[CV] kernel=rbf, gamma=0.001, C=1 ....................................\n",
      "[CV] ..... kernel=rbf, gamma=0.001, C=1, score=0.761250, total=   1.9s\n",
      "[CV] kernel=rbf, gamma=0.001, C=1 ....................................\n",
      "[CV] ..... kernel=rbf, gamma=0.001, C=1, score=0.761190, total=   2.2s\n",
      "[CV] kernel=rbf, gamma=0.0001, C=1 ...................................\n",
      "[CV] .... kernel=rbf, gamma=0.0001, C=1, score=0.761250, total=   2.1s\n",
      "[CV] kernel=rbf, gamma=0.0001, C=1 ...................................\n",
      "[CV] .... kernel=rbf, gamma=0.0001, C=1, score=0.761250, total=   2.1s\n",
      "[CV] kernel=rbf, gamma=0.0001, C=1 ...................................\n",
      "[CV] .... kernel=rbf, gamma=0.0001, C=1, score=0.761190, total=   2.2s\n",
      "[CV] kernel=rbf, gamma=1, C=10 .......................................\n",
      "[CV] ........ kernel=rbf, gamma=1, C=10, score=0.956250, total=   0.7s\n",
      "[CV] kernel=rbf, gamma=1, C=10 .......................................\n",
      "[CV] ........ kernel=rbf, gamma=1, C=10, score=0.962750, total=   0.8s\n",
      "[CV] kernel=rbf, gamma=1, C=10 .......................................\n",
      "[CV] ........ kernel=rbf, gamma=1, C=10, score=0.961740, total=   0.8s\n",
      "[CV] kernel=rbf, gamma=0.1, C=10 .....................................\n",
      "[CV] ...... kernel=rbf, gamma=0.1, C=10, score=0.955500, total=   0.6s\n",
      "[CV] kernel=rbf, gamma=0.1, C=10 .....................................\n",
      "[CV] ...... kernel=rbf, gamma=0.1, C=10, score=0.960250, total=   0.6s\n",
      "[CV] kernel=rbf, gamma=0.1, C=10 .....................................\n",
      "[CV] ...... kernel=rbf, gamma=0.1, C=10, score=0.960240, total=   0.6s\n",
      "[CV] kernel=rbf, gamma=0.01, C=10 ....................................\n",
      "[CV] ..... kernel=rbf, gamma=0.01, C=10, score=0.921750, total=   1.1s\n",
      "[CV] kernel=rbf, gamma=0.01, C=10 ....................................\n",
      "[CV] ..... kernel=rbf, gamma=0.01, C=10, score=0.926500, total=   1.1s\n",
      "[CV] kernel=rbf, gamma=0.01, C=10 ....................................\n",
      "[CV] ..... kernel=rbf, gamma=0.01, C=10, score=0.925981, total=   1.0s\n",
      "[CV] kernel=rbf, gamma=0.001, C=10 ...................................\n",
      "[CV] .... kernel=rbf, gamma=0.001, C=10, score=0.813750, total=   1.9s\n",
      "[CV] kernel=rbf, gamma=0.001, C=10 ...................................\n",
      "[CV] .... kernel=rbf, gamma=0.001, C=10, score=0.812000, total=   1.8s\n",
      "[CV] kernel=rbf, gamma=0.001, C=10 ...................................\n",
      "[CV] .... kernel=rbf, gamma=0.001, C=10, score=0.812203, total=   1.8s\n",
      "[CV] kernel=rbf, gamma=0.0001, C=10 ..................................\n",
      "[CV] ... kernel=rbf, gamma=0.0001, C=10, score=0.761250, total=   2.0s\n",
      "[CV] kernel=rbf, gamma=0.0001, C=10 ..................................\n",
      "[CV] ... kernel=rbf, gamma=0.0001, C=10, score=0.761250, total=   2.2s\n",
      "[CV] kernel=rbf, gamma=0.0001, C=10 ..................................\n",
      "[CV] ... kernel=rbf, gamma=0.0001, C=10, score=0.761190, total=   1.9s\n",
      "[CV] kernel=rbf, gamma=1, C=100 ......................................\n",
      "[CV] ....... kernel=rbf, gamma=1, C=100, score=0.958250, total=   0.6s\n",
      "[CV] kernel=rbf, gamma=1, C=100 ......................................\n",
      "[CV] ....... kernel=rbf, gamma=1, C=100, score=0.963500, total=   0.6s\n",
      "[CV] kernel=rbf, gamma=1, C=100 ......................................\n",
      "[CV] ....... kernel=rbf, gamma=1, C=100, score=0.960240, total=   0.6s\n",
      "[CV] kernel=rbf, gamma=0.1, C=100 ....................................\n",
      "[CV] ..... kernel=rbf, gamma=0.1, C=100, score=0.957500, total=   0.8s\n",
      "[CV] kernel=rbf, gamma=0.1, C=100 ....................................\n",
      "[CV] ..... kernel=rbf, gamma=0.1, C=100, score=0.960000, total=   0.9s\n",
      "[CV] kernel=rbf, gamma=0.1, C=100 ....................................\n",
      "[CV] ..... kernel=rbf, gamma=0.1, C=100, score=0.962991, total=   0.9s\n",
      "[CV] kernel=rbf, gamma=0.01, C=100 ...................................\n",
      "[CV] .... kernel=rbf, gamma=0.01, C=100, score=0.950250, total=   0.9s\n",
      "[CV] kernel=rbf, gamma=0.01, C=100 ...................................\n",
      "[CV] .... kernel=rbf, gamma=0.01, C=100, score=0.950500, total=   0.9s\n",
      "[CV] kernel=rbf, gamma=0.01, C=100 ...................................\n",
      "[CV] .... kernel=rbf, gamma=0.01, C=100, score=0.952738, total=   0.8s\n",
      "[CV] kernel=rbf, gamma=0.001, C=100 ..................................\n",
      "[CV] ... kernel=rbf, gamma=0.001, C=100, score=0.869250, total=   1.5s\n",
      "[CV] kernel=rbf, gamma=0.001, C=100 ..................................\n",
      "[CV] ... kernel=rbf, gamma=0.001, C=100, score=0.868500, total=   1.6s\n",
      "[CV] kernel=rbf, gamma=0.001, C=100 ..................................\n",
      "[CV] ... kernel=rbf, gamma=0.001, C=100, score=0.875219, total=   1.9s\n",
      "[CV] kernel=rbf, gamma=0.0001, C=100 .................................\n",
      "[CV] .. kernel=rbf, gamma=0.0001, C=100, score=0.761250, total=   2.0s\n",
      "[CV] kernel=rbf, gamma=0.0001, C=100 .................................\n",
      "[CV] .. kernel=rbf, gamma=0.0001, C=100, score=0.761250, total=   2.0s\n",
      "[CV] kernel=rbf, gamma=0.0001, C=100 .................................\n",
      "[CV] .. kernel=rbf, gamma=0.0001, C=100, score=0.761190, total=   1.8s\n",
      "[CV] kernel=rbf, gamma=1, C=1000 .....................................\n"
     ]
    },
    {
     "name": "stdout",
     "output_type": "stream",
     "text": [
      "[CV] ...... kernel=rbf, gamma=1, C=1000, score=0.963500, total=   0.6s\n",
      "[CV] kernel=rbf, gamma=1, C=1000 .....................................\n",
      "[CV] ...... kernel=rbf, gamma=1, C=1000, score=0.964500, total=   0.5s\n",
      "[CV] kernel=rbf, gamma=1, C=1000 .....................................\n",
      "[CV] ...... kernel=rbf, gamma=1, C=1000, score=0.960740, total=   0.6s\n",
      "[CV] kernel=rbf, gamma=0.1, C=1000 ...................................\n",
      "[CV] .... kernel=rbf, gamma=0.1, C=1000, score=0.958250, total=   1.8s\n",
      "[CV] kernel=rbf, gamma=0.1, C=1000 ...................................\n",
      "[CV] .... kernel=rbf, gamma=0.1, C=1000, score=0.962000, total=   2.1s\n",
      "[CV] kernel=rbf, gamma=0.1, C=1000 ...................................\n",
      "[CV] .... kernel=rbf, gamma=0.1, C=1000, score=0.959990, total=   1.9s\n",
      "[CV] kernel=rbf, gamma=0.01, C=1000 ..................................\n",
      "[CV] ... kernel=rbf, gamma=0.01, C=1000, score=0.953250, total=   1.4s\n",
      "[CV] kernel=rbf, gamma=0.01, C=1000 ..................................\n",
      "[CV] ... kernel=rbf, gamma=0.01, C=1000, score=0.956500, total=   1.4s\n",
      "[CV] kernel=rbf, gamma=0.01, C=1000 ..................................\n",
      "[CV] ... kernel=rbf, gamma=0.01, C=1000, score=0.957489, total=   1.4s\n",
      "[CV] kernel=rbf, gamma=0.001, C=1000 .................................\n",
      "[CV] .. kernel=rbf, gamma=0.001, C=1000, score=0.920000, total=   1.6s\n",
      "[CV] kernel=rbf, gamma=0.001, C=1000 .................................\n",
      "[CV] .. kernel=rbf, gamma=0.001, C=1000, score=0.924250, total=   1.6s\n",
      "[CV] kernel=rbf, gamma=0.001, C=1000 .................................\n",
      "[CV] .. kernel=rbf, gamma=0.001, C=1000, score=0.924981, total=   1.6s\n",
      "[CV] kernel=rbf, gamma=0.0001, C=1000 ................................\n",
      "[CV] . kernel=rbf, gamma=0.0001, C=1000, score=0.791250, total=   1.9s\n",
      "[CV] kernel=rbf, gamma=0.0001, C=1000 ................................\n",
      "[CV] . kernel=rbf, gamma=0.0001, C=1000, score=0.797000, total=   1.9s\n",
      "[CV] kernel=rbf, gamma=0.0001, C=1000 ................................\n",
      "[CV] . kernel=rbf, gamma=0.0001, C=1000, score=0.799700, total=   2.0s\n"
     ]
    },
    {
     "name": "stderr",
     "output_type": "stream",
     "text": [
      "[Parallel(n_jobs=1)]: Done  75 out of  75 | elapsed:  2.5min finished\n"
     ]
    },
    {
     "data": {
      "text/plain": [
       "GridSearchCV(cv=None, error_score='raise',\n",
       "       estimator=SVC(C=1.0, cache_size=200, class_weight=None, coef0=0.0,\n",
       "  decision_function_shape=None, degree=3, gamma='auto', kernel='rbf',\n",
       "  max_iter=-1, probability=False, random_state=None, shrinking=True,\n",
       "  tol=0.001, verbose=False),\n",
       "       fit_params={}, iid=True, n_jobs=1,\n",
       "       param_grid={'kernel': ['rbf'], 'gamma': [1, 0.1, 0.01, 0.001, 0.0001], 'C': [0.1, 1, 10, 100, 1000]},\n",
       "       pre_dispatch='2*n_jobs', refit=True, return_train_score=True,\n",
       "       scoring=None, verbose=3)"
      ]
     },
     "execution_count": 555,
     "metadata": {},
     "output_type": "execute_result"
    }
   ],
   "source": [
    "# May take awhile!\n",
    "grid.fit(X_train,y_train)"
   ]
  },
  {
   "cell_type": "code",
   "execution_count": 556,
   "metadata": {},
   "outputs": [
    {
     "data": {
      "text/plain": [
       "{'C': 1000, 'gamma': 1, 'kernel': 'rbf'}"
      ]
     },
     "execution_count": 556,
     "metadata": {},
     "output_type": "execute_result"
    }
   ],
   "source": [
    "grid.best_params_"
   ]
  },
  {
   "cell_type": "code",
   "execution_count": 557,
   "metadata": {
    "scrolled": false
   },
   "outputs": [
    {
     "data": {
      "text/plain": [
       "SVC(C=1000, cache_size=200, class_weight=None, coef0=0.0,\n",
       "  decision_function_shape=None, degree=3, gamma=1, kernel='rbf',\n",
       "  max_iter=-1, probability=False, random_state=None, shrinking=True,\n",
       "  tol=0.001, verbose=False)"
      ]
     },
     "execution_count": 557,
     "metadata": {},
     "output_type": "execute_result"
    }
   ],
   "source": [
    "grid.best_estimator_"
   ]
  },
  {
   "cell_type": "code",
   "execution_count": 567,
   "metadata": {
    "scrolled": true
   },
   "outputs": [
    {
     "data": {
      "text/plain": [
       "0.99093272884858996"
      ]
     },
     "execution_count": 567,
     "metadata": {},
     "output_type": "execute_result"
    }
   ],
   "source": [
    "grid.score(X, y)"
   ]
  },
  {
   "cell_type": "code",
   "execution_count": 570,
   "metadata": {},
   "outputs": [
    {
     "data": {
      "text/plain": [
       "0.99649970830902579"
      ]
     },
     "execution_count": 570,
     "metadata": {},
     "output_type": "execute_result"
    }
   ],
   "source": [
    "grid.score(X_train, y_train)"
   ]
  },
  {
   "cell_type": "code",
   "execution_count": 569,
   "metadata": {},
   "outputs": [
    {
     "data": {
      "text/plain": [
       "0.96866666666666668"
      ]
     },
     "execution_count": 569,
     "metadata": {},
     "output_type": "execute_result"
    }
   ],
   "source": [
    "grid.score(X_test, y_test)"
   ]
  },
  {
   "cell_type": "code",
   "execution_count": 558,
   "metadata": {},
   "outputs": [],
   "source": [
    "grid_predictions = grid.predict(X_test)"
   ]
  },
  {
   "cell_type": "code",
   "execution_count": 559,
   "metadata": {},
   "outputs": [
    {
     "name": "stdout",
     "output_type": "stream",
     "text": [
      "[[2239   55]\n",
      " [  39  667]]\n"
     ]
    }
   ],
   "source": [
    "print(confusion_matrix(y_test,grid_predictions))"
   ]
  },
  {
   "cell_type": "code",
   "execution_count": 560,
   "metadata": {
    "scrolled": true
   },
   "outputs": [
    {
     "name": "stdout",
     "output_type": "stream",
     "text": [
      "             precision    recall  f1-score   support\n",
      "\n",
      "          0       0.98      0.98      0.98      2294\n",
      "          1       0.92      0.94      0.93       706\n",
      "\n",
      "avg / total       0.97      0.97      0.97      3000\n",
      "\n"
     ]
    }
   ],
   "source": [
    "print(classification_report(y_test,grid_predictions))"
   ]
  },
  {
   "cell_type": "code",
   "execution_count": null,
   "metadata": {},
   "outputs": [],
   "source": []
  },
  {
   "cell_type": "code",
   "execution_count": null,
   "metadata": {},
   "outputs": [],
   "source": []
  },
  {
   "cell_type": "code",
   "execution_count": null,
   "metadata": {},
   "outputs": [],
   "source": []
  },
  {
   "cell_type": "code",
   "execution_count": null,
   "metadata": {},
   "outputs": [],
   "source": []
  },
  {
   "cell_type": "code",
   "execution_count": null,
   "metadata": {},
   "outputs": [],
   "source": []
  }
 ],
 "metadata": {
  "kernelspec": {
   "display_name": "Python 3",
   "language": "python",
   "name": "python3"
  },
  "language_info": {
   "codemirror_mode": {
    "name": "ipython",
    "version": 3
   },
   "file_extension": ".py",
   "mimetype": "text/x-python",
   "name": "python",
   "nbconvert_exporter": "python",
   "pygments_lexer": "ipython3",
   "version": "3.5.6"
  }
 },
 "nbformat": 4,
 "nbformat_minor": 2
}
